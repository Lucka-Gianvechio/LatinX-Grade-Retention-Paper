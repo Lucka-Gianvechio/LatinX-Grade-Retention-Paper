{
  "nbformat": 4,
  "nbformat_minor": 0,
  "metadata": {
    "colab": {
      "name": "CrossValidation.ipynb",
      "provenance": [],
      "collapsed_sections": []
    },
    "kernelspec": {
      "name": "python3",
      "display_name": "Python 3"
    },
    "language_info": {
      "name": "python"
    }
  },
  "cells": [
    {
      "cell_type": "markdown",
      "metadata": {
        "id": "cK-MwzXXetQI"
      },
      "source": [
        "## Setup"
      ]
    },
    {
      "cell_type": "code",
      "metadata": {
        "id": "aSiKutz-fsv7"
      },
      "source": [
        "# Librarys\n",
        "\n",
        "## Major libraryies\n",
        "import pandas as pd\n",
        "import numpy as np\n",
        "import matplotlib.pyplot as plt\n",
        "import xgboost as xgb\n",
        "import seaborn as sns\n",
        "from scipy import stats\n",
        "## Progress bar\n",
        "from tqdm import tqdm\n",
        "## skleaarn features\n",
        "### sklearn model selection\n",
        "from sklearn.model_selection import train_test_split\n",
        "from sklearn.model_selection import RandomizedSearchCV\n",
        "from sklearn.model_selection import cross_validate\n",
        "from sklearn.model_selection import StratifiedKFold\n",
        "### sklearn preprocessing\n",
        "from sklearn.preprocessing import StandardScaler\n",
        "### sklearn models\n",
        "from sklearn.linear_model import LogisticRegression\n",
        "from sklearn.pipeline import Pipeline\n",
        "### sklearn metrics\n",
        "from sklearn.metrics import roc_auc_score\n",
        "from sklearn.metrics import auc\n",
        "### xgboost models\n",
        "from xgboost import XGBClassifier\n"
      ],
      "execution_count": null,
      "outputs": []
    },
    {
      "cell_type": "code",
      "metadata": {
        "id": "SOrJ-SWaesPE"
      },
      "source": [
        "dataset=pd.read_csv(sertaozinhoTIDY.csv, delimiter=\",\")\n",
        "seed = 42"
      ],
      "execution_count": null,
      "outputs": []
    },
    {
      "cell_type": "code",
      "metadata": {
        "colab": {
          "base_uri": "https://localhost:8080/"
        },
        "id": "enyNnekwh31J",
        "outputId": "d636a0a8-f2d7-46ff-887b-bb235dc5321c"
      },
      "source": [
        "dataset.shape"
      ],
      "execution_count": null,
      "outputs": [
        {
          "output_type": "execute_result",
          "data": {
            "text/plain": [
              "(1888, 37)"
            ]
          },
          "metadata": {
            "tags": []
          },
          "execution_count": 3
        }
      ]
    },
    {
      "cell_type": "code",
      "metadata": {
        "colab": {
          "base_uri": "https://localhost:8080/",
          "height": 320
        },
        "id": "iVMeTNQmh-Q1",
        "outputId": "ec92daaa-65c7-419c-ff72-c74744a7b807"
      },
      "source": [
        "dataset.describe()"
      ],
      "execution_count": null,
      "outputs": [
        {
          "output_type": "execute_result",
          "data": {
            "text/html": [
              "<div>\n",
              "<style scoped>\n",
              "    .dataframe tbody tr th:only-of-type {\n",
              "        vertical-align: middle;\n",
              "    }\n",
              "\n",
              "    .dataframe tbody tr th {\n",
              "        vertical-align: top;\n",
              "    }\n",
              "\n",
              "    .dataframe thead th {\n",
              "        text-align: right;\n",
              "    }\n",
              "</style>\n",
              "<table border=\"1\" class=\"dataframe\">\n",
              "  <thead>\n",
              "    <tr style=\"text-align: right;\">\n",
              "      <th></th>\n",
              "      <th>id</th>\n",
              "      <th>month</th>\n",
              "      <th>semester</th>\n",
              "      <th>year</th>\n",
              "      <th>failed_before_2012</th>\n",
              "      <th>pre_k_pub</th>\n",
              "      <th>pre_k_priv</th>\n",
              "      <th>kinder_pub</th>\n",
              "      <th>kinder_priv</th>\n",
              "      <th>act_2012</th>\n",
              "      <th>aes_2012</th>\n",
              "      <th>alt_2012</th>\n",
              "      <th>anx_2012</th>\n",
              "      <th>ass_2012</th>\n",
              "      <th>cmp_2012</th>\n",
              "      <th>dep_2012</th>\n",
              "      <th>ids_2012</th>\n",
              "      <th>ord_2012</th>\n",
              "      <th>sfd_2012</th>\n",
              "      <th>lang_2012</th>\n",
              "      <th>math_2012</th>\n",
              "      <th>delay</th>\n",
              "      <th>delay_years</th>\n",
              "      <th>ethinicity_branca</th>\n",
              "      <th>ethinicity_indigena</th>\n",
              "      <th>ethinicity_parda</th>\n",
              "      <th>ethinicity_preta</th>\n",
              "      <th>gender_mulher</th>\n",
              "      <th>grade_2012_5.0</th>\n",
              "      <th>grade_2012_6.0</th>\n",
              "      <th>mother_educ_ef2</th>\n",
              "      <th>mother_educ_em</th>\n",
              "      <th>mother_educ_nao_sabe</th>\n",
              "      <th>mother_educ_nunca_estudou</th>\n",
              "      <th>mother_educ_superior</th>\n",
              "      <th>school_2012_municipal</th>\n",
              "      <th>school_2012_privada</th>\n",
              "    </tr>\n",
              "  </thead>\n",
              "  <tbody>\n",
              "    <tr>\n",
              "      <th>count</th>\n",
              "      <td>1888.000000</td>\n",
              "      <td>1888.000000</td>\n",
              "      <td>1888.000000</td>\n",
              "      <td>1888.000000</td>\n",
              "      <td>1888.000000</td>\n",
              "      <td>1888.000000</td>\n",
              "      <td>1888.000000</td>\n",
              "      <td>1888.000000</td>\n",
              "      <td>1888.000000</td>\n",
              "      <td>1888.000000</td>\n",
              "      <td>1888.000000</td>\n",
              "      <td>1888.000000</td>\n",
              "      <td>1888.000000</td>\n",
              "      <td>1888.000000</td>\n",
              "      <td>1888.000000</td>\n",
              "      <td>1888.000000</td>\n",
              "      <td>1888.000000</td>\n",
              "      <td>1888.000000</td>\n",
              "      <td>1888.000000</td>\n",
              "      <td>1888.000000</td>\n",
              "      <td>1888.000000</td>\n",
              "      <td>1888.000000</td>\n",
              "      <td>1888.000000</td>\n",
              "      <td>1888.000000</td>\n",
              "      <td>1888.000000</td>\n",
              "      <td>1888.000000</td>\n",
              "      <td>1888.000000</td>\n",
              "      <td>1888.000000</td>\n",
              "      <td>1888.000000</td>\n",
              "      <td>1888.000000</td>\n",
              "      <td>1888.000000</td>\n",
              "      <td>1888.000000</td>\n",
              "      <td>1888.000000</td>\n",
              "      <td>1888.000000</td>\n",
              "      <td>1888.000000</td>\n",
              "      <td>1888.000000</td>\n",
              "      <td>1888.000000</td>\n",
              "    </tr>\n",
              "    <tr>\n",
              "      <th>mean</th>\n",
              "      <td>2652.367055</td>\n",
              "      <td>6.279131</td>\n",
              "      <td>1.466631</td>\n",
              "      <td>2000.749470</td>\n",
              "      <td>0.269068</td>\n",
              "      <td>0.448623</td>\n",
              "      <td>0.036017</td>\n",
              "      <td>0.771716</td>\n",
              "      <td>0.078390</td>\n",
              "      <td>0.027004</td>\n",
              "      <td>-0.040475</td>\n",
              "      <td>-0.036482</td>\n",
              "      <td>0.033438</td>\n",
              "      <td>0.057030</td>\n",
              "      <td>0.042545</td>\n",
              "      <td>0.021433</td>\n",
              "      <td>0.001100</td>\n",
              "      <td>-0.008999</td>\n",
              "      <td>0.027015</td>\n",
              "      <td>0.017508</td>\n",
              "      <td>0.017356</td>\n",
              "      <td>0.133475</td>\n",
              "      <td>0.143008</td>\n",
              "      <td>0.403602</td>\n",
              "      <td>0.011123</td>\n",
              "      <td>0.456568</td>\n",
              "      <td>0.112818</td>\n",
              "      <td>0.519068</td>\n",
              "      <td>0.524894</td>\n",
              "      <td>0.446504</td>\n",
              "      <td>0.226165</td>\n",
              "      <td>0.252119</td>\n",
              "      <td>0.010064</td>\n",
              "      <td>0.154661</td>\n",
              "      <td>0.064619</td>\n",
              "      <td>0.639831</td>\n",
              "      <td>0.100106</td>\n",
              "    </tr>\n",
              "    <tr>\n",
              "      <th>std</th>\n",
              "      <td>1528.163148</td>\n",
              "      <td>3.414789</td>\n",
              "      <td>0.499017</td>\n",
              "      <td>0.905293</td>\n",
              "      <td>0.443593</td>\n",
              "      <td>0.497485</td>\n",
              "      <td>0.186382</td>\n",
              "      <td>0.419838</td>\n",
              "      <td>0.268855</td>\n",
              "      <td>0.972697</td>\n",
              "      <td>0.993413</td>\n",
              "      <td>0.962960</td>\n",
              "      <td>0.988440</td>\n",
              "      <td>0.973832</td>\n",
              "      <td>1.007410</td>\n",
              "      <td>0.979368</td>\n",
              "      <td>0.976056</td>\n",
              "      <td>0.962067</td>\n",
              "      <td>0.984932</td>\n",
              "      <td>0.981209</td>\n",
              "      <td>0.992427</td>\n",
              "      <td>0.340177</td>\n",
              "      <td>0.500867</td>\n",
              "      <td>0.490749</td>\n",
              "      <td>0.104905</td>\n",
              "      <td>0.498242</td>\n",
              "      <td>0.316454</td>\n",
              "      <td>0.499769</td>\n",
              "      <td>0.499512</td>\n",
              "      <td>0.497262</td>\n",
              "      <td>0.418458</td>\n",
              "      <td>0.434344</td>\n",
              "      <td>0.099838</td>\n",
              "      <td>0.361677</td>\n",
              "      <td>0.245917</td>\n",
              "      <td>0.480177</td>\n",
              "      <td>0.300221</td>\n",
              "    </tr>\n",
              "    <tr>\n",
              "      <th>min</th>\n",
              "      <td>5.000000</td>\n",
              "      <td>1.000000</td>\n",
              "      <td>1.000000</td>\n",
              "      <td>1994.000000</td>\n",
              "      <td>0.000000</td>\n",
              "      <td>0.000000</td>\n",
              "      <td>0.000000</td>\n",
              "      <td>0.000000</td>\n",
              "      <td>0.000000</td>\n",
              "      <td>-3.333034</td>\n",
              "      <td>-3.454074</td>\n",
              "      <td>-2.940817</td>\n",
              "      <td>-3.762595</td>\n",
              "      <td>-3.047933</td>\n",
              "      <td>-2.678637</td>\n",
              "      <td>-2.365950</td>\n",
              "      <td>-3.934303</td>\n",
              "      <td>-2.407924</td>\n",
              "      <td>-3.058979</td>\n",
              "      <td>-3.594707</td>\n",
              "      <td>-3.035328</td>\n",
              "      <td>0.000000</td>\n",
              "      <td>-2.000000</td>\n",
              "      <td>0.000000</td>\n",
              "      <td>0.000000</td>\n",
              "      <td>0.000000</td>\n",
              "      <td>0.000000</td>\n",
              "      <td>0.000000</td>\n",
              "      <td>0.000000</td>\n",
              "      <td>0.000000</td>\n",
              "      <td>0.000000</td>\n",
              "      <td>0.000000</td>\n",
              "      <td>0.000000</td>\n",
              "      <td>0.000000</td>\n",
              "      <td>0.000000</td>\n",
              "      <td>0.000000</td>\n",
              "      <td>0.000000</td>\n",
              "    </tr>\n",
              "    <tr>\n",
              "      <th>25%</th>\n",
              "      <td>1368.500000</td>\n",
              "      <td>3.000000</td>\n",
              "      <td>1.000000</td>\n",
              "      <td>2000.000000</td>\n",
              "      <td>0.000000</td>\n",
              "      <td>0.000000</td>\n",
              "      <td>0.000000</td>\n",
              "      <td>1.000000</td>\n",
              "      <td>0.000000</td>\n",
              "      <td>-0.657450</td>\n",
              "      <td>-0.681952</td>\n",
              "      <td>-0.715586</td>\n",
              "      <td>-0.382502</td>\n",
              "      <td>-0.546322</td>\n",
              "      <td>-0.655119</td>\n",
              "      <td>-0.699856</td>\n",
              "      <td>-0.605261</td>\n",
              "      <td>-0.719280</td>\n",
              "      <td>-0.589534</td>\n",
              "      <td>-0.406369</td>\n",
              "      <td>-0.597954</td>\n",
              "      <td>0.000000</td>\n",
              "      <td>0.000000</td>\n",
              "      <td>0.000000</td>\n",
              "      <td>0.000000</td>\n",
              "      <td>0.000000</td>\n",
              "      <td>0.000000</td>\n",
              "      <td>0.000000</td>\n",
              "      <td>0.000000</td>\n",
              "      <td>0.000000</td>\n",
              "      <td>0.000000</td>\n",
              "      <td>0.000000</td>\n",
              "      <td>0.000000</td>\n",
              "      <td>0.000000</td>\n",
              "      <td>0.000000</td>\n",
              "      <td>0.000000</td>\n",
              "      <td>0.000000</td>\n",
              "    </tr>\n",
              "    <tr>\n",
              "      <th>50%</th>\n",
              "      <td>2687.500000</td>\n",
              "      <td>6.000000</td>\n",
              "      <td>1.000000</td>\n",
              "      <td>2001.000000</td>\n",
              "      <td>0.000000</td>\n",
              "      <td>0.000000</td>\n",
              "      <td>0.000000</td>\n",
              "      <td>1.000000</td>\n",
              "      <td>0.000000</td>\n",
              "      <td>0.076178</td>\n",
              "      <td>-0.080858</td>\n",
              "      <td>-0.075450</td>\n",
              "      <td>0.040009</td>\n",
              "      <td>0.015435</td>\n",
              "      <td>0.034762</td>\n",
              "      <td>-0.134814</td>\n",
              "      <td>0.000954</td>\n",
              "      <td>-0.156399</td>\n",
              "      <td>0.016178</td>\n",
              "      <td>0.161777</td>\n",
              "      <td>0.081594</td>\n",
              "      <td>0.000000</td>\n",
              "      <td>0.000000</td>\n",
              "      <td>0.000000</td>\n",
              "      <td>0.000000</td>\n",
              "      <td>0.000000</td>\n",
              "      <td>0.000000</td>\n",
              "      <td>1.000000</td>\n",
              "      <td>1.000000</td>\n",
              "      <td>0.000000</td>\n",
              "      <td>0.000000</td>\n",
              "      <td>0.000000</td>\n",
              "      <td>0.000000</td>\n",
              "      <td>0.000000</td>\n",
              "      <td>0.000000</td>\n",
              "      <td>1.000000</td>\n",
              "      <td>0.000000</td>\n",
              "    </tr>\n",
              "    <tr>\n",
              "      <th>75%</th>\n",
              "      <td>3959.000000</td>\n",
              "      <td>9.000000</td>\n",
              "      <td>2.000000</td>\n",
              "      <td>2001.000000</td>\n",
              "      <td>1.000000</td>\n",
              "      <td>1.000000</td>\n",
              "      <td>0.000000</td>\n",
              "      <td>1.000000</td>\n",
              "      <td>0.000000</td>\n",
              "      <td>0.766651</td>\n",
              "      <td>0.617711</td>\n",
              "      <td>0.556111</td>\n",
              "      <td>0.885032</td>\n",
              "      <td>0.699616</td>\n",
              "      <td>0.756731</td>\n",
              "      <td>0.577631</td>\n",
              "      <td>0.627718</td>\n",
              "      <td>0.576519</td>\n",
              "      <td>0.663631</td>\n",
              "      <td>0.718352</td>\n",
              "      <td>0.722798</td>\n",
              "      <td>0.000000</td>\n",
              "      <td>0.000000</td>\n",
              "      <td>1.000000</td>\n",
              "      <td>0.000000</td>\n",
              "      <td>1.000000</td>\n",
              "      <td>0.000000</td>\n",
              "      <td>1.000000</td>\n",
              "      <td>1.000000</td>\n",
              "      <td>1.000000</td>\n",
              "      <td>0.000000</td>\n",
              "      <td>1.000000</td>\n",
              "      <td>0.000000</td>\n",
              "      <td>0.000000</td>\n",
              "      <td>0.000000</td>\n",
              "      <td>1.000000</td>\n",
              "      <td>0.000000</td>\n",
              "    </tr>\n",
              "    <tr>\n",
              "      <th>max</th>\n",
              "      <td>5305.000000</td>\n",
              "      <td>12.000000</td>\n",
              "      <td>2.000000</td>\n",
              "      <td>2003.000000</td>\n",
              "      <td>1.000000</td>\n",
              "      <td>1.000000</td>\n",
              "      <td>1.000000</td>\n",
              "      <td>1.000000</td>\n",
              "      <td>1.000000</td>\n",
              "      <td>2.553970</td>\n",
              "      <td>3.233283</td>\n",
              "      <td>3.760280</td>\n",
              "      <td>3.234790</td>\n",
              "      <td>3.357291</td>\n",
              "      <td>2.864741</td>\n",
              "      <td>5.392776</td>\n",
              "      <td>3.203273</td>\n",
              "      <td>4.159023</td>\n",
              "      <td>3.126766</td>\n",
              "      <td>1.725766</td>\n",
              "      <td>2.012405</td>\n",
              "      <td>1.000000</td>\n",
              "      <td>4.000000</td>\n",
              "      <td>1.000000</td>\n",
              "      <td>1.000000</td>\n",
              "      <td>1.000000</td>\n",
              "      <td>1.000000</td>\n",
              "      <td>1.000000</td>\n",
              "      <td>1.000000</td>\n",
              "      <td>1.000000</td>\n",
              "      <td>1.000000</td>\n",
              "      <td>1.000000</td>\n",
              "      <td>1.000000</td>\n",
              "      <td>1.000000</td>\n",
              "      <td>1.000000</td>\n",
              "      <td>1.000000</td>\n",
              "      <td>1.000000</td>\n",
              "    </tr>\n",
              "  </tbody>\n",
              "</table>\n",
              "</div>"
            ],
            "text/plain": [
              "                id        month  ...  school_2012_municipal  school_2012_privada\n",
              "count  1888.000000  1888.000000  ...            1888.000000          1888.000000\n",
              "mean   2652.367055     6.279131  ...               0.639831             0.100106\n",
              "std    1528.163148     3.414789  ...               0.480177             0.300221\n",
              "min       5.000000     1.000000  ...               0.000000             0.000000\n",
              "25%    1368.500000     3.000000  ...               0.000000             0.000000\n",
              "50%    2687.500000     6.000000  ...               1.000000             0.000000\n",
              "75%    3959.000000     9.000000  ...               1.000000             0.000000\n",
              "max    5305.000000    12.000000  ...               1.000000             1.000000\n",
              "\n",
              "[8 rows x 37 columns]"
            ]
          },
          "metadata": {
            "tags": []
          },
          "execution_count": 6
        }
      ]
    },
    {
      "cell_type": "code",
      "metadata": {
        "id": "Tva41DFJe6lb"
      },
      "source": [
        "personality_traits = ['act_2012', 'aes_2012', 'alt_2012', 'anx_2012', 'ass_2012', 'cmp_2012', 'dep_2012', 'ids_2012',\n",
        "       'ord_2012', \"sfd_2012\"]"
      ],
      "execution_count": null,
      "outputs": []
    },
    {
      "cell_type": "code",
      "metadata": {
        "id": "pBHcFa4ge7eD"
      },
      "source": [
        "y = dataset.delay\n",
        "X = dataset.drop([\"delay\", \"delay_years\", \"id\"], axis=1)"
      ],
      "execution_count": null,
      "outputs": []
    },
    {
      "cell_type": "code",
      "metadata": {
        "id": "6aZBniyAowKL"
      },
      "source": [
        "X = X.reset_index(drop=True)\n",
        "y = y.reset_index(drop=True)"
      ],
      "execution_count": null,
      "outputs": []
    },
    {
      "cell_type": "markdown",
      "metadata": {
        "id": "sJcqMGeZeu9m"
      },
      "source": [
        "## Main functions"
      ]
    },
    {
      "cell_type": "code",
      "metadata": {
        "id": "3lA8mbUmeel1"
      },
      "source": [
        "def model_test(pipe, X_train, X_test, y_train, y_test):\n",
        "    '''\n",
        "    Test the model with best params\n",
        "    '''\n",
        "    pipe.fit(X_train, y_train)\n",
        "    predictions = pipe.predict_proba(X_test)[:,1]\n",
        "    return roc_auc_score(y_test, predictions)"
      ],
      "execution_count": null,
      "outputs": []
    },
    {
      "cell_type": "code",
      "metadata": {
        "id": "HVJdrrZLjQKF"
      },
      "source": [
        "def best_xgb_clas_model(X_train, y_train, params, scoring = 'roc_auc', \n",
        "                   sample_weight=None, sample_weight_eval_set=None, \n",
        "                   colsample_bynode = 1, n_estimators=500, n_jobs=-1, n_iter=50):\n",
        "    '''\n",
        "    Calculates and returns the best xgboost model using randomsearchCV\n",
        "    '''\n",
        "    pipe = Pipeline([\n",
        "        ('scaler', StandardScaler()),\n",
        "        ('xgbclas', XGBClassifier(\n",
        "        random_state=seed,\n",
        "        objective = \"binary:logistic\"\n",
        "        ))\n",
        "    ])\n",
        "    optimal_params = RandomizedSearchCV(estimator = pipe, \n",
        "                       param_distributions=params, \n",
        "                       n_iter = 25, scoring = \"roc_auc\", \n",
        "                       cv = 5, n_jobs = -1,random_state = 42)\n",
        "\n",
        "    ###\n",
        "    optimal_params.fit(X_train, y_train)\n",
        "\n",
        "    ###\n",
        "    pipe = Pipeline([\n",
        "    (\"scaler\", StandardScaler()),                \n",
        "    (\"xgbclas\", XGBClassifier(\n",
        "        # Global parameters\n",
        "        booster = \"gbtree\", # Type of booster (tree or linear)\n",
        "        # Learning Task Parameters\n",
        "        objective='binary:logistic', # Specify the learning task and the corresponding learning objective\n",
        "        random_state=seed,\n",
        "        n_jobs=-1,\n",
        "        # Parameters for Tree Booster\n",
        "        gamma = optimal_params.best_params_[\"xgbclas__gamma\"], # Minimum loss reduction required to make a further partition on a leaf node of the tree\n",
        "        reg_lambda = optimal_params.best_params_['xgbclas__reg_lambda'], # L2 regularization term on weights\n",
        "  \n",
        "    ))\n",
        "    ])\n",
        "\n",
        "    return pipe"
      ],
      "execution_count": null,
      "outputs": []
    },
    {
      "cell_type": "code",
      "metadata": {
        "id": "emr0gDYcivxd"
      },
      "source": [
        "def test_xgb_model(X_train, X_test, y_train, y_test):\n",
        "    '''\n",
        "    Test xgboost model with the best params\n",
        "    '''\n",
        "    param_grid = {\n",
        "    \"xgbclas__reg_lambda\" : np.linspace(10,50,7),\n",
        "    \"xgbclas__gamma\" : np.linspace(1e-1,1,5),\n",
        "    }\n",
        "    pipe = best_xgb_clas_model(X_train, y_train, param_grid)\n",
        "    return model_test(pipe,X_train,X_test,y_train,y_test)\n",
        "\n"
      ],
      "execution_count": null,
      "outputs": []
    },
    {
      "cell_type": "code",
      "metadata": {
        "id": "-odOwBkdKrBa",
        "colab": {
          "base_uri": "https://localhost:8080/"
        },
        "outputId": "b18ff9e7-e9c5-4e05-80e5-c72e96d9f3e7"
      },
      "source": [
        "param_grid = {\n",
        "    \"xgbclas__reg_lambda\" : np.linspace(10,50,7),\n",
        "    \"xgbclas__gamma\" : np.linspace(1e-1,1,5),\n",
        "    }\n",
        "param_grid"
      ],
      "execution_count": null,
      "outputs": [
        {
          "output_type": "execute_result",
          "data": {
            "text/plain": [
              "{'xgbclas__gamma': array([0.1  , 0.325, 0.55 , 0.775, 1.   ]),\n",
              " 'xgbclas__reg_lambda': array([10.        , 16.66666667, 23.33333333, 30.        , 36.66666667,\n",
              "        43.33333333, 50.        ])}"
            ]
          },
          "metadata": {
            "tags": []
          },
          "execution_count": 13
        }
      ]
    },
    {
      "cell_type": "code",
      "metadata": {
        "id": "UUyB2nmVBNq8"
      },
      "source": [
        "def best_model_logreg(X_train, X_test, y_train, y_test, params, seed=seed, scoring = 'roc_auc'):\n",
        "    '''\n",
        "    Calculates and returns the best logist regression model using randomsearchCV\n",
        "    '''\n",
        "    pipe = Pipeline([('scaler', StandardScaler()),\n",
        "                 ('logreg', LogisticRegression(penalty=\"elasticnet\", \n",
        "                                               solver='saga',\n",
        "                                               max_iter = 3000,\n",
        "                                               random_state = seed))]) \n",
        "    rcv = RandomizedSearchCV(pipe, params, n_iter = 100, scoring = scoring, cv = 3, n_jobs = -1, random_state = seed)\n",
        "    rcv.fit(X_train, y_train)\n",
        "    scaler = StandardScaler()\n",
        "    X_train_ = scaler.fit_transform(X_train)\n",
        "    X_test_ = scaler.transform(X_test)\n",
        "    cls = LogisticRegression(penalty=\"elasticnet\", \n",
        "                           solver='saga',\n",
        "                           max_iter = 3000,\n",
        "                           random_state = seed,\n",
        "                           C = rcv.best_params_['logreg__C'],\n",
        "                           l1_ratio = rcv.best_params_['logreg__l1_ratio'])\n",
        "    cls.fit(X_train_, y_train)\n",
        "    predictions = cls.predict_proba(X_test_)[:,1]\n",
        "    auc_score = roc_auc_score(y_test, predictions)   \n",
        "    return auc_score"
      ],
      "execution_count": null,
      "outputs": []
    },
    {
      "cell_type": "code",
      "metadata": {
        "id": "T-p2P47nA2pc"
      },
      "source": [
        "def test_logreg_model(X_train, X_test, y_train, y_test):\n",
        "    '''\n",
        "    Test logistic regression model with the best params\n",
        "    '''\n",
        "    parameters = {'logreg__C': np.linspace(0, 30, 1000),\n",
        "              'logreg__l1_ratio': np.linspace(0,1,100)}\n",
        "    return best_model_logreg(X_train, X_test, y_train, y_test, parameters)\n",
        "\n"
      ],
      "execution_count": null,
      "outputs": []
    },
    {
      "cell_type": "markdown",
      "metadata": {
        "id": "iN6OwonLkETY"
      },
      "source": [
        "## Core code"
      ]
    },
    {
      "cell_type": "code",
      "metadata": {
        "id": "XRBgorp0frgO"
      },
      "source": [
        "skf = StratifiedKFold(n_splits=10, shuffle=True, random_state=42)"
      ],
      "execution_count": null,
      "outputs": []
    },
    {
      "cell_type": "code",
      "metadata": {
        "colab": {
          "base_uri": "https://localhost:8080/"
        },
        "id": "4fiuLdbnggyP",
        "outputId": "ae41a043-8932-481f-b8ad-31f0a3383456"
      },
      "source": [
        "auc_scores_xgb = {'Personalities Only' : [],\n",
        "              'Others Only' : [],\n",
        "              'All Features' : []}\n",
        "auc_scores_logreg = {'Personalities Only' : [],\n",
        "              'Others Only' : [],\n",
        "              'All Features' : []}\n",
        "\n",
        "for train_index, test_index in tqdm(skf.split(X,y)):\n",
        "    ## train test split\n",
        "    X_all_train = X.loc[train_index,:]\n",
        "    X_all_test = X.loc[test_index,:]\n",
        "    y_train = y[train_index]\n",
        "    y_test = y[test_index]\n",
        "    ## Group division\n",
        "    X_personality_train = X_all_train[personality_traits]\n",
        "    X_personality_test = X_all_test[personality_traits]\n",
        "    X_other_train = X_all_train.drop(personality_traits, axis = 1)\n",
        "    X_other_test =  X_all_test.drop(personality_traits, axis = 1)\n",
        "    ## list construction\n",
        "    train_sets = [X_personality_train, X_other_train, X_all_train]\n",
        "    test_sets = [X_personality_test, X_other_test, X_all_test]\n",
        "    train_set_names = ['Personalities Only', 'Others Only', 'All Features']\n",
        "    for i in range(3):\n",
        "        auc_scores_xgb[train_set_names[i]].append(test_xgb_model(train_sets[i], test_sets[i], y_train, y_test))\n",
        "        auc_scores_logreg[train_set_names[i]].append(test_logreg_model(train_sets[i], test_sets[i], y_train, y_test))"
      ],
      "execution_count": null,
      "outputs": [
        {
          "output_type": "stream",
          "text": [
            "10it [15:40, 94.02s/it]\n"
          ],
          "name": "stderr"
        }
      ]
    },
    {
      "cell_type": "markdown",
      "metadata": {
        "id": "1G8Ib2-xhE4X"
      },
      "source": [
        "## Statistics"
      ]
    },
    {
      "cell_type": "code",
      "metadata": {
        "id": "1sjnTcoN4cD2"
      },
      "source": [
        "logreg = pd.DataFrame(auc_scores_logreg)\n",
        "xgb = pd.DataFrame(auc_scores_xgb)"
      ],
      "execution_count": null,
      "outputs": []
    },
    {
      "cell_type": "markdown",
      "metadata": {
        "id": "NpiP4fYxhI0z"
      },
      "source": [
        "### Log Reg"
      ]
    },
    {
      "cell_type": "code",
      "metadata": {
        "colab": {
          "base_uri": "https://localhost:8080/"
        },
        "id": "W4ovVJH_Ckji",
        "outputId": "5f2d94fd-30fb-4d85-e408-6c6179ede1bd"
      },
      "source": [
        "!pip install pingouin"
      ],
      "execution_count": null,
      "outputs": [
        {
          "output_type": "stream",
          "text": [
            "Collecting pingouin\n",
            "\u001b[?25l  Downloading https://files.pythonhosted.org/packages/5c/40/7736d4fcb8dbb6758a1e9ca51754e60ff4efe5d7c9b5bb6166cff538513d/pingouin-0.3.11.tar.gz (204kB)\n",
            "\r\u001b[K     |█▋                              | 10kB 13.8MB/s eta 0:00:01\r\u001b[K     |███▏                            | 20kB 14.3MB/s eta 0:00:01\r\u001b[K     |████▉                           | 30kB 9.9MB/s eta 0:00:01\r\u001b[K     |██████▍                         | 40kB 8.6MB/s eta 0:00:01\r\u001b[K     |████████                        | 51kB 5.6MB/s eta 0:00:01\r\u001b[K     |█████████▋                      | 61kB 5.7MB/s eta 0:00:01\r\u001b[K     |███████████▏                    | 71kB 6.2MB/s eta 0:00:01\r\u001b[K     |████████████▉                   | 81kB 6.8MB/s eta 0:00:01\r\u001b[K     |██████████████▍                 | 92kB 6.4MB/s eta 0:00:01\r\u001b[K     |████████████████                | 102kB 5.4MB/s eta 0:00:01\r\u001b[K     |█████████████████▋              | 112kB 5.4MB/s eta 0:00:01\r\u001b[K     |███████████████████▎            | 122kB 5.4MB/s eta 0:00:01\r\u001b[K     |████████████████████▉           | 133kB 5.4MB/s eta 0:00:01\r\u001b[K     |██████████████████████▍         | 143kB 5.4MB/s eta 0:00:01\r\u001b[K     |████████████████████████        | 153kB 5.4MB/s eta 0:00:01\r\u001b[K     |█████████████████████████▋      | 163kB 5.4MB/s eta 0:00:01\r\u001b[K     |███████████████████████████▎    | 174kB 5.4MB/s eta 0:00:01\r\u001b[K     |████████████████████████████▉   | 184kB 5.4MB/s eta 0:00:01\r\u001b[K     |██████████████████████████████▌ | 194kB 5.4MB/s eta 0:00:01\r\u001b[K     |████████████████████████████████| 204kB 5.4MB/s \n",
            "\u001b[?25hRequirement already satisfied: numpy>=1.15 in /usr/local/lib/python3.7/dist-packages (from pingouin) (1.19.5)\n",
            "Requirement already satisfied: scipy>=1.3 in /usr/local/lib/python3.7/dist-packages (from pingouin) (1.4.1)\n",
            "Requirement already satisfied: pandas>=0.24 in /usr/local/lib/python3.7/dist-packages (from pingouin) (1.1.5)\n",
            "Requirement already satisfied: matplotlib>=3.0.2 in /usr/local/lib/python3.7/dist-packages (from pingouin) (3.2.2)\n",
            "Requirement already satisfied: seaborn>=0.9.0 in /usr/local/lib/python3.7/dist-packages (from pingouin) (0.11.1)\n",
            "Requirement already satisfied: statsmodels>=0.10.0 in /usr/local/lib/python3.7/dist-packages (from pingouin) (0.10.2)\n",
            "Requirement already satisfied: scikit-learn in /usr/local/lib/python3.7/dist-packages (from pingouin) (0.22.2.post1)\n",
            "Collecting pandas_flavor>=0.1.2\n",
            "  Downloading https://files.pythonhosted.org/packages/9a/57/7fbcff4c0961ed190ac5fcb0bd8194152ee1ee6487edf64fdbae16e2bc4b/pandas_flavor-0.2.0-py2.py3-none-any.whl\n",
            "Collecting outdated\n",
            "  Downloading https://files.pythonhosted.org/packages/fd/f6/95588d496e518355c33b389222c99069b1c6f2c046be64f400072fdc7cda/outdated-0.2.1-py3-none-any.whl\n",
            "Requirement already satisfied: tabulate in /usr/local/lib/python3.7/dist-packages (from pingouin) (0.8.9)\n",
            "Requirement already satisfied: python-dateutil>=2.7.3 in /usr/local/lib/python3.7/dist-packages (from pandas>=0.24->pingouin) (2.8.1)\n",
            "Requirement already satisfied: pytz>=2017.2 in /usr/local/lib/python3.7/dist-packages (from pandas>=0.24->pingouin) (2018.9)\n",
            "Requirement already satisfied: kiwisolver>=1.0.1 in /usr/local/lib/python3.7/dist-packages (from matplotlib>=3.0.2->pingouin) (1.3.1)\n",
            "Requirement already satisfied: cycler>=0.10 in /usr/local/lib/python3.7/dist-packages (from matplotlib>=3.0.2->pingouin) (0.10.0)\n",
            "Requirement already satisfied: pyparsing!=2.0.4,!=2.1.2,!=2.1.6,>=2.0.1 in /usr/local/lib/python3.7/dist-packages (from matplotlib>=3.0.2->pingouin) (2.4.7)\n",
            "Requirement already satisfied: patsy>=0.4.0 in /usr/local/lib/python3.7/dist-packages (from statsmodels>=0.10.0->pingouin) (0.5.1)\n",
            "Requirement already satisfied: joblib>=0.11 in /usr/local/lib/python3.7/dist-packages (from scikit-learn->pingouin) (1.0.1)\n",
            "Requirement already satisfied: xarray in /usr/local/lib/python3.7/dist-packages (from pandas_flavor>=0.1.2->pingouin) (0.15.1)\n",
            "Requirement already satisfied: requests in /usr/local/lib/python3.7/dist-packages (from outdated->pingouin) (2.23.0)\n",
            "Collecting littleutils\n",
            "  Downloading https://files.pythonhosted.org/packages/4e/b1/bb4e06f010947d67349f863b6a2ad71577f85590180a935f60543f622652/littleutils-0.2.2.tar.gz\n",
            "Requirement already satisfied: six>=1.5 in /usr/local/lib/python3.7/dist-packages (from python-dateutil>=2.7.3->pandas>=0.24->pingouin) (1.15.0)\n",
            "Requirement already satisfied: setuptools>=41.2 in /usr/local/lib/python3.7/dist-packages (from xarray->pandas_flavor>=0.1.2->pingouin) (54.2.0)\n",
            "Requirement already satisfied: chardet<4,>=3.0.2 in /usr/local/lib/python3.7/dist-packages (from requests->outdated->pingouin) (3.0.4)\n",
            "Requirement already satisfied: urllib3!=1.25.0,!=1.25.1,<1.26,>=1.21.1 in /usr/local/lib/python3.7/dist-packages (from requests->outdated->pingouin) (1.24.3)\n",
            "Requirement already satisfied: certifi>=2017.4.17 in /usr/local/lib/python3.7/dist-packages (from requests->outdated->pingouin) (2020.12.5)\n",
            "Requirement already satisfied: idna<3,>=2.5 in /usr/local/lib/python3.7/dist-packages (from requests->outdated->pingouin) (2.10)\n",
            "Building wheels for collected packages: pingouin, littleutils\n",
            "  Building wheel for pingouin (setup.py) ... \u001b[?25l\u001b[?25hdone\n",
            "  Created wheel for pingouin: filename=pingouin-0.3.11-cp37-none-any.whl size=203325 sha256=7b1845925a9e4884364582246ca7885f2103757dd27e56d0ea5c915b6f695de7\n",
            "  Stored in directory: /root/.cache/pip/wheels/79/46/ef/e377eb45c86f278f660d31c4a30e3f733063d28c89462f1aea\n",
            "  Building wheel for littleutils (setup.py) ... \u001b[?25l\u001b[?25hdone\n",
            "  Created wheel for littleutils: filename=littleutils-0.2.2-cp37-none-any.whl size=7051 sha256=fe4bc7f6ff80db7ae5c35b49c59322d0adc971d8a9c8addf0e987198fc7253aa\n",
            "  Stored in directory: /root/.cache/pip/wheels/53/16/9f/ac67d15c40243754fd73f620e1b9b6dedc20492ecc19a2bae1\n",
            "Successfully built pingouin littleutils\n",
            "Installing collected packages: pandas-flavor, littleutils, outdated, pingouin\n",
            "Successfully installed littleutils-0.2.2 outdated-0.2.1 pandas-flavor-0.2.0 pingouin-0.3.11\n"
          ],
          "name": "stdout"
        }
      ]
    },
    {
      "cell_type": "code",
      "metadata": {
        "id": "uZbhdxS9HEFU"
      },
      "source": [
        "from pingouin import qqplot"
      ],
      "execution_count": null,
      "outputs": []
    },
    {
      "cell_type": "code",
      "metadata": {
        "colab": {
          "base_uri": "https://localhost:8080/",
          "height": 285
        },
        "id": "WPwnqKXOhLng",
        "outputId": "1ed93a9c-5b0a-478e-d5fa-76f888392598"
      },
      "source": [
        "### Normality of data\n",
        "qqplot(logreg.melt().value)\n",
        "plt.title(\"\")\n",
        "plt.show()"
      ],
      "execution_count": null,
      "outputs": [
        {
          "output_type": "display_data",
          "data": {
            "image/png": "[encoded data removed]",
            "text/plain": [
              "<Figure size 360x288 with 1 Axes>"
            ]
          },
          "metadata": {
            "tags": [],
            "needs_background": "light"
          }
        }
      ]
    },
    {
      "cell_type": "code",
      "metadata": {
        "colab": {
          "base_uri": "https://localhost:8080/"
        },
        "id": "as3i0a36hfNt",
        "outputId": "0c9838a0-817b-4283-c12c-1200644bda85"
      },
      "source": [
        "### Levenne for standart distributions\n",
        "stats.levene(logreg[\"All Features\"], logreg[\"Others Only\"])"
      ],
      "execution_count": null,
      "outputs": [
        {
          "output_type": "execute_result",
          "data": {
            "text/plain": [
              "LeveneResult(statistic=0.0155846104947287, pvalue=0.9020351780634416)"
            ]
          },
          "metadata": {
            "tags": []
          },
          "execution_count": 20
        }
      ]
    },
    {
      "cell_type": "code",
      "metadata": {
        "colab": {
          "base_uri": "https://localhost:8080/"
        },
        "id": "nbttmb17hyiK",
        "outputId": "0cfdca9e-e009-4720-fbec-57ee54cb652c"
      },
      "source": [
        "### T-statistic\n",
        "stats.ttest_ind(logreg[\"All Features\"], logreg[\"Others Only\"])"
      ],
      "execution_count": null,
      "outputs": [
        {
          "output_type": "execute_result",
          "data": {
            "text/plain": [
              "Ttest_indResult(statistic=0.9229130604239553, pvalue=0.36825906889690907)"
            ]
          },
          "metadata": {
            "tags": []
          },
          "execution_count": 21
        }
      ]
    },
    {
      "cell_type": "markdown",
      "metadata": {
        "id": "fumElBdEiEcn"
      },
      "source": [
        "## XGBoost Classifier"
      ]
    },
    {
      "cell_type": "code",
      "metadata": {
        "colab": {
          "base_uri": "https://localhost:8080/",
          "height": 285
        },
        "id": "83zRk2oLiNpR",
        "outputId": "2b5d0d58-c7b2-4083-9181-1b7412e7eb8a"
      },
      "source": [
        "### Normality of data\n",
        "qqplot(xgb.melt().value)\n",
        "plt.title(\"\")\n",
        "plt.show()"
      ],
      "execution_count": null,
      "outputs": [
        {
          "output_type": "display_data",
          "data": {
            "image/png": "[encoded data removed]",
            "text/plain": [
              "<Figure size 360x288 with 1 Axes>"
            ]
          },
          "metadata": {
            "tags": [],
            "needs_background": "light"
          }
        }
      ]
    },
    {
      "cell_type": "code",
      "metadata": {
        "colab": {
          "base_uri": "https://localhost:8080/"
        },
        "id": "a3FvprW5iRVR",
        "outputId": "dd03eea5-88a7-4e7f-a114-f63db4854bfb"
      },
      "source": [
        "### Levenne for standart distributions\n",
        "stats.levene(xgb[\"All Features\"], xgb[\"Others Only\"])"
      ],
      "execution_count": null,
      "outputs": [
        {
          "output_type": "execute_result",
          "data": {
            "text/plain": [
              "LeveneResult(statistic=0.42861455848634217, pvalue=0.5209482926529669)"
            ]
          },
          "metadata": {
            "tags": []
          },
          "execution_count": 23
        }
      ]
    },
    {
      "cell_type": "code",
      "metadata": {
        "colab": {
          "base_uri": "https://localhost:8080/"
        },
        "id": "TbhL20Gxibie",
        "outputId": "a51dca9f-a3de-4aaa-92b4-2292db81df58"
      },
      "source": [
        "### T-statistic\n",
        "stats.ttest_ind(xgb[\"All Features\"], xgb[\"Others Only\"])"
      ],
      "execution_count": null,
      "outputs": [
        {
          "output_type": "execute_result",
          "data": {
            "text/plain": [
              "Ttest_indResult(statistic=1.2579293333693353, pvalue=0.2244918515163733)"
            ]
          },
          "metadata": {
            "tags": []
          },
          "execution_count": 24
        }
      ]
    },
    {
      "cell_type": "markdown",
      "metadata": {
        "id": "Y-LW0WZviXI5"
      },
      "source": [
        "### Dipersion Plots"
      ]
    },
    {
      "cell_type": "code",
      "metadata": {
        "id": "esDdVUDO2eWj"
      },
      "source": [
        "df = pd.concat([logreg, xgb], axis = 1, keys=['Logistic Regression', 'XGBoost'])"
      ],
      "execution_count": null,
      "outputs": []
    },
    {
      "cell_type": "code",
      "metadata": {
        "colab": {
          "base_uri": "https://localhost:8080/",
          "height": 781
        },
        "id": "6OihdWQ11kDz",
        "outputId": "aa9433ff-a3b9-4a36-d951-042575c042f4"
      },
      "source": [
        "import numpy as np\n",
        "df.melt()\n",
        "sns.displot(data = logreg.melt(value_name=\"AUC\"), x=\"AUC\", hue=\"variable\", kind='kde', fill=True)\n",
        "plt.title(\"Logistic Regression\", fontsize=20)\n",
        "sns.displot(data = xgb.melt(value_name=\"AUC\"), x=\"AUC\", hue=\"variable\", kind='kde', fill=True)\n",
        "plt.title(\"XGBoost Classifier\", fontsize=20)\n"
      ],
      "execution_count": null,
      "outputs": [
        {
          "output_type": "execute_result",
          "data": {
            "text/plain": [
              "Text(0.5, 1.0, 'XGBoost Classifier')"
            ]
          },
          "metadata": {
            "tags": []
          },
          "execution_count": 26
        },
        {
          "output_type": "display_data",
          "data": {
            "image/png": "[encoded data removed]",
            "text/plain": [
              "<Figure size 485.5x360 with 1 Axes>"
            ]
          },
          "metadata": {
            "tags": [],
            "needs_background": "light"
          }
        },
        {
          "output_type": "display_data",
          "data": {
            "image/png": "[encoded data removed]",
            "text/plain": [
              "<Figure size 485.5x360 with 1 Axes>"
            ]
          },
          "metadata": {
            "tags": [],
            "needs_background": "light"
          }
        }
      ]
    },
    {
      "cell_type": "markdown",
      "metadata": {
        "id": "dQ0luZR5imwc"
      },
      "source": [
        "### Data Frame made"
      ]
    },
    {
      "cell_type": "code",
      "metadata": {
        "colab": {
          "base_uri": "https://localhost:8080/",
          "height": 206
        },
        "id": "hd4AQ1exZlHA",
        "outputId": "3c0f2dac-9e88-47ab-9926-25d7d3df3252"
      },
      "source": [
        "melted_df = df.melt(value_name=\"AUC\",var_name = ['Classifier', 'Data'])\n",
        "melted_df.head()"
      ],
      "execution_count": null,
      "outputs": [
        {
          "output_type": "execute_result",
          "data": {
            "text/html": [
              "<div>\n",
              "<style scoped>\n",
              "    .dataframe tbody tr th:only-of-type {\n",
              "        vertical-align: middle;\n",
              "    }\n",
              "\n",
              "    .dataframe tbody tr th {\n",
              "        vertical-align: top;\n",
              "    }\n",
              "\n",
              "    .dataframe thead th {\n",
              "        text-align: right;\n",
              "    }\n",
              "</style>\n",
              "<table border=\"1\" class=\"dataframe\">\n",
              "  <thead>\n",
              "    <tr style=\"text-align: right;\">\n",
              "      <th></th>\n",
              "      <th>Classifier</th>\n",
              "      <th>Data</th>\n",
              "      <th>AUC</th>\n",
              "    </tr>\n",
              "  </thead>\n",
              "  <tbody>\n",
              "    <tr>\n",
              "      <th>0</th>\n",
              "      <td>Logistic Regression</td>\n",
              "      <td>Personalities Only</td>\n",
              "      <td>0.627317</td>\n",
              "    </tr>\n",
              "    <tr>\n",
              "      <th>1</th>\n",
              "      <td>Logistic Regression</td>\n",
              "      <td>Personalities Only</td>\n",
              "      <td>0.735610</td>\n",
              "    </tr>\n",
              "    <tr>\n",
              "      <th>2</th>\n",
              "      <td>Logistic Regression</td>\n",
              "      <td>Personalities Only</td>\n",
              "      <td>0.634878</td>\n",
              "    </tr>\n",
              "    <tr>\n",
              "      <th>3</th>\n",
              "      <td>Logistic Regression</td>\n",
              "      <td>Personalities Only</td>\n",
              "      <td>0.623902</td>\n",
              "    </tr>\n",
              "    <tr>\n",
              "      <th>4</th>\n",
              "      <td>Logistic Regression</td>\n",
              "      <td>Personalities Only</td>\n",
              "      <td>0.652195</td>\n",
              "    </tr>\n",
              "  </tbody>\n",
              "</table>\n",
              "</div>"
            ],
            "text/plain": [
              "            Classifier                Data       AUC\n",
              "0  Logistic Regression  Personalities Only  0.627317\n",
              "1  Logistic Regression  Personalities Only  0.735610\n",
              "2  Logistic Regression  Personalities Only  0.634878\n",
              "3  Logistic Regression  Personalities Only  0.623902\n",
              "4  Logistic Regression  Personalities Only  0.652195"
            ]
          },
          "metadata": {
            "tags": []
          },
          "execution_count": 27
        }
      ]
    },
    {
      "cell_type": "code",
      "metadata": {
        "colab": {
          "base_uri": "https://localhost:8080/",
          "height": 332
        },
        "id": "RVJRTyx1HZGI",
        "outputId": "be8e9068-281f-42f7-b417-06adb18eb917"
      },
      "source": [
        "df.describe()"
      ],
      "execution_count": null,
      "outputs": [
        {
          "output_type": "execute_result",
          "data": {
            "text/html": [
              "<div>\n",
              "<style scoped>\n",
              "    .dataframe tbody tr th:only-of-type {\n",
              "        vertical-align: middle;\n",
              "    }\n",
              "\n",
              "    .dataframe tbody tr th {\n",
              "        vertical-align: top;\n",
              "    }\n",
              "\n",
              "    .dataframe thead tr th {\n",
              "        text-align: left;\n",
              "    }\n",
              "</style>\n",
              "<table border=\"1\" class=\"dataframe\">\n",
              "  <thead>\n",
              "    <tr>\n",
              "      <th></th>\n",
              "      <th colspan=\"3\" halign=\"left\">Logistic Regression</th>\n",
              "      <th colspan=\"3\" halign=\"left\">XGBoost</th>\n",
              "    </tr>\n",
              "    <tr>\n",
              "      <th></th>\n",
              "      <th>Personalities Only</th>\n",
              "      <th>Others Only</th>\n",
              "      <th>All Features</th>\n",
              "      <th>Personalities Only</th>\n",
              "      <th>Others Only</th>\n",
              "      <th>All Features</th>\n",
              "    </tr>\n",
              "  </thead>\n",
              "  <tbody>\n",
              "    <tr>\n",
              "      <th>count</th>\n",
              "      <td>10.000000</td>\n",
              "      <td>10.000000</td>\n",
              "      <td>10.000000</td>\n",
              "      <td>10.000000</td>\n",
              "      <td>10.000000</td>\n",
              "      <td>10.000000</td>\n",
              "    </tr>\n",
              "    <tr>\n",
              "      <th>mean</th>\n",
              "      <td>0.624566</td>\n",
              "      <td>0.697349</td>\n",
              "      <td>0.723221</td>\n",
              "      <td>0.617706</td>\n",
              "      <td>0.670093</td>\n",
              "      <td>0.696524</td>\n",
              "    </tr>\n",
              "    <tr>\n",
              "      <th>std</th>\n",
              "      <td>0.049489</td>\n",
              "      <td>0.067442</td>\n",
              "      <td>0.057531</td>\n",
              "      <td>0.055050</td>\n",
              "      <td>0.049732</td>\n",
              "      <td>0.044062</td>\n",
              "    </tr>\n",
              "    <tr>\n",
              "      <th>min</th>\n",
              "      <td>0.550731</td>\n",
              "      <td>0.558780</td>\n",
              "      <td>0.626098</td>\n",
              "      <td>0.522439</td>\n",
              "      <td>0.598780</td>\n",
              "      <td>0.614390</td>\n",
              "    </tr>\n",
              "    <tr>\n",
              "      <th>25%</th>\n",
              "      <td>0.599948</td>\n",
              "      <td>0.684222</td>\n",
              "      <td>0.692013</td>\n",
              "      <td>0.581395</td>\n",
              "      <td>0.645274</td>\n",
              "      <td>0.678037</td>\n",
              "    </tr>\n",
              "    <tr>\n",
              "      <th>50%</th>\n",
              "      <td>0.625610</td>\n",
              "      <td>0.704878</td>\n",
              "      <td>0.723902</td>\n",
              "      <td>0.627439</td>\n",
              "      <td>0.662530</td>\n",
              "      <td>0.698766</td>\n",
              "    </tr>\n",
              "    <tr>\n",
              "      <th>75%</th>\n",
              "      <td>0.637615</td>\n",
              "      <td>0.726902</td>\n",
              "      <td>0.756800</td>\n",
              "      <td>0.647561</td>\n",
              "      <td>0.717763</td>\n",
              "      <td>0.722256</td>\n",
              "    </tr>\n",
              "    <tr>\n",
              "      <th>max</th>\n",
              "      <td>0.735610</td>\n",
              "      <td>0.809325</td>\n",
              "      <td>0.825031</td>\n",
              "      <td>0.692439</td>\n",
              "      <td>0.732657</td>\n",
              "      <td>0.754878</td>\n",
              "    </tr>\n",
              "  </tbody>\n",
              "</table>\n",
              "</div>"
            ],
            "text/plain": [
              "      Logistic Regression              ...     XGBoost             \n",
              "       Personalities Only Others Only  ... Others Only All Features\n",
              "count           10.000000   10.000000  ...   10.000000    10.000000\n",
              "mean             0.624566    0.697349  ...    0.670093     0.696524\n",
              "std              0.049489    0.067442  ...    0.049732     0.044062\n",
              "min              0.550731    0.558780  ...    0.598780     0.614390\n",
              "25%              0.599948    0.684222  ...    0.645274     0.678037\n",
              "50%              0.625610    0.704878  ...    0.662530     0.698766\n",
              "75%              0.637615    0.726902  ...    0.717763     0.722256\n",
              "max              0.735610    0.809325  ...    0.732657     0.754878\n",
              "\n",
              "[8 rows x 6 columns]"
            ]
          },
          "metadata": {
            "tags": []
          },
          "execution_count": 28
        }
      ]
    },
    {
      "cell_type": "code",
      "metadata": {
        "colab": {
          "base_uri": "https://localhost:8080/",
          "height": 397
        },
        "id": "YX5s-xpCH40W",
        "outputId": "2dc083c4-16c1-445e-e269-16aa12671d1b"
      },
      "source": [
        "fig, ax = plt.subplots()\n",
        "width = 0.3\n",
        "PO_errors = [np.std(df['Logistic Regression']['Personalities Only'], ddof = 1)/np.sqrt(10),\n",
        "             np.std(df['XGBoost']['Personalities Only'], ddof = 1)/np.sqrt(10)]\n",
        "\n",
        "OO_errors = [np.std(df['Logistic Regression']['Others Only'], ddof = 1)/np.sqrt(10),\n",
        "             np.std(df['XGBoost']['Others Only'], ddof = 1)/np.sqrt(10)]\n",
        "\n",
        "AF_errors = [np.std(df['Logistic Regression']['All Features'], ddof = 1)/np.sqrt(10),\n",
        "             np.std(df['XGBoost']['All Features'], ddof = 1)/np.sqrt(10)]\n",
        "\n",
        "print(PO_errors, OO_errors, AF_errors, sep=\"\\n\")\n",
        "font = {'family' : 'normal',\n",
        "        'weight' : 'normal',\n",
        "        'size'   : 13}\n",
        "\n",
        "fig.set_figheight(5)\n",
        "fig.set_figwidth(7)\n",
        "\n",
        "labels = ['Logistic Regression', 'XGBoost']\n",
        "xx = np.arange(len(labels))\n",
        "yy1 = [df['Logistic Regression']['Personalities Only'].mean(), df['XGBoost']['Personalities Only'].mean()]\n",
        "yy2 = [df['Logistic Regression']['Others Only'].mean(), df['XGBoost']['Others Only'].mean()]\n",
        "yy3 = [df['Logistic Regression']['All Features'].mean(), df['XGBoost']['All Features'].mean()]\n",
        "plt.rc('font', **font)\n",
        "#ax.set_title(\"Bar plot of AUCs simulated\")\n",
        "\n",
        "PO = ax.bar(xx - width,\n",
        "            yy1, yerr = PO_errors, capsize = 5,\n",
        "            width = width, label = 'Personalities Only')\n",
        "OO = ax.bar(xx,\n",
        "            yy2, yerr = OO_errors, capsize = 5,\n",
        "            width = width, label = 'Others Only')\n",
        "AF = ax.bar(xx + width,\n",
        "            yy3, yerr = AF_errors, capsize = 5,\n",
        "            width = width, label = 'All Features')\n",
        "\n",
        "ax.set_ylabel(\"AUC\")\n",
        "ax.set_xticks(xx)\n",
        "ax.set_xticklabels(labels)\n",
        "ax.legend()\n",
        "\n",
        "\n",
        "\n",
        "#sns.barplot(x = \"Classifier\", y=\"AUC\", hue=\"Data\", data =  melted_df, ci = None)\n",
        "ax.set_ylim(0.55,0.8)\n",
        "ax.axhline(df[\"Logistic Regression\"][\"All Features\"].mean(), linestyle = 'dashed', color='red')\n",
        "\n",
        "#fig.tight_layout()\n",
        "\n",
        "plt.show()"
      ],
      "execution_count": null,
      "outputs": [
        {
          "output_type": "stream",
          "text": [
            "findfont: Font family ['normal'] not found. Falling back to DejaVu Sans.\n"
          ],
          "name": "stderr"
        },
        {
          "output_type": "stream",
          "text": [
            "[0.015649756276150516, 0.01740821850513535]\n",
            "[0.021327143708796653, 0.015726692802257577]\n",
            "[0.018192858092705693, 0.013933713865037115]\n"
          ],
          "name": "stdout"
        },
        {
          "output_type": "display_data",
          "data": {
            "image/png": "[encoded data removed]",
            "text/plain": [
              "<Figure size 504x360 with 1 Axes>"
            ]
          },
          "metadata": {
            "tags": [],
            "needs_background": "light"
          }
        }
      ]
    },
    {
      "cell_type": "markdown",
      "metadata": {
        "id": "mnnpa5g-ipl2"
      },
      "source": [
        "### gain"
      ]
    },
    {
      "cell_type": "code",
      "metadata": {
        "id": "R0_QDqIPKLnJ"
      },
      "source": [
        "ganho_logreg = logreg[\"All Features\"] - logreg[\"Others Only\"]"
      ],
      "execution_count": null,
      "outputs": []
    },
    {
      "cell_type": "code",
      "metadata": {
        "colab": {
          "base_uri": "https://localhost:8080/",
          "height": 285
        },
        "id": "_xgAJNRsg7C4",
        "outputId": "1cade0a6-9e4e-44e8-ad17-912914d4f5fe"
      },
      "source": [
        "qqplot(ganho_logreg)\n",
        "plt.title(\"\")\n",
        "plt.show()"
      ],
      "execution_count": null,
      "outputs": [
        {
          "output_type": "display_data",
          "data": {
            "image/png": "[encoded data removed]",
            "text/plain": [
              "<Figure size 360x288 with 1 Axes>"
            ]
          },
          "metadata": {
            "tags": [],
            "needs_background": "light"
          }
        }
      ]
    },
    {
      "cell_type": "code",
      "metadata": {
        "colab": {
          "base_uri": "https://localhost:8080/",
          "height": 399
        },
        "id": "olnUI-bWfbPl",
        "outputId": "79dce8f0-e581-4e63-f551-a88839f2d78f"
      },
      "source": [
        "sns.displot(ganho_logreg, kind='kde',fill=True)\n",
        "\n",
        "plt.title(\"Gain in predictive hability adding personality features\")"
      ],
      "execution_count": null,
      "outputs": [
        {
          "output_type": "execute_result",
          "data": {
            "text/plain": [
              "Text(0.5, 1.0, 'Gain in predictive hability adding personality features')"
            ]
          },
          "metadata": {
            "tags": []
          },
          "execution_count": 32
        },
        {
          "output_type": "display_data",
          "data": {
            "image/png": "[encoded data removed]",
            "text/plain": [
              "<Figure size 360x360 with 1 Axes>"
            ]
          },
          "metadata": {
            "tags": [],
            "needs_background": "light"
          }
        }
      ]
    },
    {
      "cell_type": "code",
      "metadata": {
        "colab": {
          "base_uri": "https://localhost:8080/"
        },
        "id": "EU_LkVPdf1_C",
        "outputId": "3cf9b9d6-c0d5-45a1-9b48-5b060632fae7"
      },
      "source": [
        "stats.ttest_1samp(ganho_logreg, 0)"
      ],
      "execution_count": null,
      "outputs": [
        {
          "output_type": "execute_result",
          "data": {
            "text/plain": [
              "Ttest_1sampResult(statistic=2.350503225610375, pvalue=0.04326939782736384)"
            ]
          },
          "metadata": {
            "tags": []
          },
          "execution_count": 33
        }
      ]
    },
    {
      "cell_type": "code",
      "metadata": {
        "colab": {
          "base_uri": "https://localhost:8080/"
        },
        "id": "72Ir-vJYyywG",
        "outputId": "c875c8a9-cbb9-4eee-c3f7-9c1782bc5f12"
      },
      "source": [
        "stats.wilcoxon(x=ganho_logreg, zero_method=\"pratt\", alternative = \"greater\") "
      ],
      "execution_count": null,
      "outputs": [
        {
          "output_type": "execute_result",
          "data": {
            "text/plain": [
              "WilcoxonResult(statistic=47.0, pvalue=0.023426642394073573)"
            ]
          },
          "metadata": {
            "tags": []
          },
          "execution_count": 34
        }
      ]
    },
    {
      "cell_type": "code",
      "metadata": {
        "id": "MJTyN9ygiyjd"
      },
      "source": [
        "ganho_xgb = xgb[\"All Features\"] - xgb[\"Others Only\"]"
      ],
      "execution_count": null,
      "outputs": []
    },
    {
      "cell_type": "code",
      "metadata": {
        "colab": {
          "base_uri": "https://localhost:8080/",
          "height": 290
        },
        "id": "SLOCXnqmi5fJ",
        "outputId": "c81ea169-1eaf-451f-a4de-8738cf427561"
      },
      "source": [
        "qqplot(ganho_xgb)\n",
        "plt.title(\"\")\n",
        "plt.show()"
      ],
      "execution_count": null,
      "outputs": [
        {
          "output_type": "display_data",
          "data": {
            "image/png": "[encoded data removed]",
            "text/plain": [
              "<Figure size 360x288 with 1 Axes>"
            ]
          },
          "metadata": {
            "tags": [],
            "needs_background": "light"
          }
        }
      ]
    },
    {
      "cell_type": "code",
      "metadata": {
        "colab": {
          "base_uri": "https://localhost:8080/",
          "height": 399
        },
        "id": "Vi7Xm9uGi8wV",
        "outputId": "086c1510-fbda-4b87-815b-9931e77f11b7"
      },
      "source": [
        "sns.displot(ganho_xgb, kind='kde',fill=True)\n",
        "plt.title(\"Gain in predictive hability adding personality features\")"
      ],
      "execution_count": null,
      "outputs": [
        {
          "output_type": "execute_result",
          "data": {
            "text/plain": [
              "Text(0.5, 1.0, 'Gain in predictive hability adding personality features')"
            ]
          },
          "metadata": {
            "tags": []
          },
          "execution_count": 37
        },
        {
          "output_type": "display_data",
          "data": {
            "image/png": "[encoded data removed]",
            "text/plain": [
              "<Figure size 360x360 with 1 Axes>"
            ]
          },
          "metadata": {
            "tags": [],
            "needs_background": "light"
          }
        }
      ]
    },
    {
      "cell_type": "code",
      "metadata": {
        "id": "W3vnQRiXjDaw",
        "colab": {
          "base_uri": "https://localhost:8080/"
        },
        "outputId": "ee744a3a-bc9e-4124-a423-616b6bb244f6"
      },
      "source": [
        "stats.ttest_1samp(ganho_xgb, 0)"
      ],
      "execution_count": null,
      "outputs": [
        {
          "output_type": "execute_result",
          "data": {
            "text/plain": [
              "Ttest_1sampResult(statistic=1.7470052557427684, pvalue=0.11458226949459278)"
            ]
          },
          "metadata": {
            "tags": []
          },
          "execution_count": 38
        }
      ]
    },
    {
      "cell_type": "code",
      "metadata": {
        "id": "KgeFnpCG0_c5",
        "colab": {
          "base_uri": "https://localhost:8080/"
        },
        "outputId": "66479380-128e-464e-cae2-43a6cc6b644f"
      },
      "source": [
        "stats.wilcoxon(x=ganho_xgb, zero_method=\"pratt\", alternative = \"greater\") "
      ],
      "execution_count": null,
      "outputs": [
        {
          "output_type": "execute_result",
          "data": {
            "text/plain": [
              "WilcoxonResult(statistic=43.0, pvalue=0.05706416388111932)"
            ]
          },
          "metadata": {
            "tags": []
          },
          "execution_count": 39
        }
      ]
    },
    {
      "cell_type": "code",
      "metadata": {
        "id": "Bg0Nu9jIS55L"
      },
      "source": [
        "ganho = pd.concat([ganho_logreg, ganho_xgb], axis = 1, keys=['Logistic Regression', 'XGBoost'])\n",
        "melted_ganho = ganho.melt(value_name=\"Gain\", var_name = ['Classifier'])\n"
      ],
      "execution_count": null,
      "outputs": []
    },
    {
      "cell_type": "code",
      "metadata": {
        "colab": {
          "base_uri": "https://localhost:8080/",
          "height": 206
        },
        "id": "UKeYnrYtXesu",
        "outputId": "4cf738c4-67e8-4dea-b434-396cf31dce42"
      },
      "source": [
        "ganho.head()"
      ],
      "execution_count": null,
      "outputs": [
        {
          "output_type": "execute_result",
          "data": {
            "text/html": [
              "<div>\n",
              "<style scoped>\n",
              "    .dataframe tbody tr th:only-of-type {\n",
              "        vertical-align: middle;\n",
              "    }\n",
              "\n",
              "    .dataframe tbody tr th {\n",
              "        vertical-align: top;\n",
              "    }\n",
              "\n",
              "    .dataframe thead th {\n",
              "        text-align: right;\n",
              "    }\n",
              "</style>\n",
              "<table border=\"1\" class=\"dataframe\">\n",
              "  <thead>\n",
              "    <tr style=\"text-align: right;\">\n",
              "      <th></th>\n",
              "      <th>Logistic Regression</th>\n",
              "      <th>XGBoost</th>\n",
              "    </tr>\n",
              "  </thead>\n",
              "  <tbody>\n",
              "    <tr>\n",
              "      <th>0</th>\n",
              "      <td>0.017073</td>\n",
              "      <td>0.061829</td>\n",
              "    </tr>\n",
              "    <tr>\n",
              "      <th>1</th>\n",
              "      <td>0.092439</td>\n",
              "      <td>0.110000</td>\n",
              "    </tr>\n",
              "    <tr>\n",
              "      <th>2</th>\n",
              "      <td>0.034634</td>\n",
              "      <td>0.044512</td>\n",
              "    </tr>\n",
              "    <tr>\n",
              "      <th>3</th>\n",
              "      <td>0.020976</td>\n",
              "      <td>-0.002927</td>\n",
              "    </tr>\n",
              "    <tr>\n",
              "      <th>4</th>\n",
              "      <td>0.018293</td>\n",
              "      <td>0.044146</td>\n",
              "    </tr>\n",
              "  </tbody>\n",
              "</table>\n",
              "</div>"
            ],
            "text/plain": [
              "   Logistic Regression   XGBoost\n",
              "0             0.017073  0.061829\n",
              "1             0.092439  0.110000\n",
              "2             0.034634  0.044512\n",
              "3             0.020976 -0.002927\n",
              "4             0.018293  0.044146"
            ]
          },
          "metadata": {
            "tags": []
          },
          "execution_count": 41
        }
      ]
    },
    {
      "cell_type": "code",
      "metadata": {
        "colab": {
          "base_uri": "https://localhost:8080/",
          "height": 323
        },
        "id": "M6Hxa_7STDvk",
        "outputId": "3ff4f56e-454c-4320-8396-6caf1529a0d0"
      },
      "source": [
        "#sns.barplot(x = \"Gain\", y=\"Classifier\", data =  melted_ganho, ci = None)\n",
        "cls_mean = [ganho['Logistic Regression'].mean(), ganho['XGBoost'].mean()]\n",
        "cls_ep = [np.std(ganho['Logistic Regression'], ddof=1)/np.sqrt(10),\n",
        "          np.std(ganho['XGBoost'], ddof = 1)/np.sqrt(10)]\n",
        "\n",
        "\n",
        "plt.figure(figsize=(7,5))\n",
        "plt.bar(x = ganho.columns, height= cls_mean[0], width = .7 ,yerr = cls_ep, capsize = 5, color = ['tab:orange', 'tab:blue'])\n",
        "\n",
        "\n",
        "plt.show()"
      ],
      "execution_count": null,
      "outputs": [
        {
          "output_type": "display_data",
          "data": {
            "image/png": "[encoded data removed]",
            "text/plain": [
              "<Figure size 504x360 with 1 Axes>"
            ]
          },
          "metadata": {
            "tags": [],
            "needs_background": "light"
          }
        }
      ]
    },
    {
      "cell_type": "code",
      "metadata": {
        "id": "yMbNhGHMbQaO",
        "colab": {
          "base_uri": "https://localhost:8080/",
          "height": 112
        },
        "outputId": "28fb8fd3-d09b-454b-9364-87388fac0bd8"
      },
      "source": [
        "pd.DataFrame(data = [cls_mean,cls_ep], columns=labels, index=[\"mean\", \"std error\"])"
      ],
      "execution_count": null,
      "outputs": [
        {
          "output_type": "execute_result",
          "data": {
            "text/html": [
              "<div>\n",
              "<style scoped>\n",
              "    .dataframe tbody tr th:only-of-type {\n",
              "        vertical-align: middle;\n",
              "    }\n",
              "\n",
              "    .dataframe tbody tr th {\n",
              "        vertical-align: top;\n",
              "    }\n",
              "\n",
              "    .dataframe thead th {\n",
              "        text-align: right;\n",
              "    }\n",
              "</style>\n",
              "<table border=\"1\" class=\"dataframe\">\n",
              "  <thead>\n",
              "    <tr style=\"text-align: right;\">\n",
              "      <th></th>\n",
              "      <th>Logistic Regression</th>\n",
              "      <th>XGBoost</th>\n",
              "    </tr>\n",
              "  </thead>\n",
              "  <tbody>\n",
              "    <tr>\n",
              "      <th>mean</th>\n",
              "      <td>0.025872</td>\n",
              "      <td>0.026431</td>\n",
              "    </tr>\n",
              "    <tr>\n",
              "      <th>std error</th>\n",
              "      <td>0.011007</td>\n",
              "      <td>0.015129</td>\n",
              "    </tr>\n",
              "  </tbody>\n",
              "</table>\n",
              "</div>"
            ],
            "text/plain": [
              "           Logistic Regression   XGBoost\n",
              "mean                  0.025872  0.026431\n",
              "std error             0.011007  0.015129"
            ]
          },
          "metadata": {
            "tags": []
          },
          "execution_count": 58
        }
      ]
    },
    {
      "cell_type": "code",
      "metadata": {
        "id": "ZKVbUUK8lP8r"
      },
      "source": [
        ""
      ],
      "execution_count": null,
      "outputs": []
    }
  ]
}