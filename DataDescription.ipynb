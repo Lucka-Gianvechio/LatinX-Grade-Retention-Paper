{
  "nbformat": 4,
  "nbformat_minor": 0,
  "metadata": {
    "colab": {
      "name": "DataDescription.ipynb",
      "provenance": [],
      "collapsed_sections": [
        "3TAzPMA6rF1w",
        "yZxCn83CvGMe",
        "1j2flhCbCxWo"
      ],
      "toc_visible": true
    },
    "kernelspec": {
      "name": "python3",
      "display_name": "Python 3"
    }
  },
  "cells": [
    {
      "cell_type": "markdown",
      "metadata": {
        "id": "J22INKRmoD1c"
      },
      "source": [
        "# Variable description\n",
        "\n",
        "Here we describe the basic features of each one variable, in the data analyzed.\n",
        "\n",
        "Variables features:\n",
        "\n",
        "1. Variable name\n",
        "\n",
        "1. Variable description\n",
        "\n",
        "1. discrete or  continuous\n",
        "\n",
        "1. if continuous, the components that describe it (min, 25%, 50%, 75%, max, mean, number of terms)\n",
        "\n",
        "1. if discrete, its factors\n",
        "\n",
        "1. Histogram\n"
      ]
    },
    {
      "cell_type": "code",
      "metadata": {
        "id": "eHg4WB2Qp4jQ"
      },
      "source": [
        "## Libraries\n",
        "import pandas as pd\n",
        "import seaborn as sns\n",
        "import matplotlib.pyplot as plt\n",
        "import numpy as np\n",
        "import sklearn as sk\n",
        "import math\n",
        "import scipy.stats as stats"
      ],
      "execution_count": null,
      "outputs": []
    },
    {
      "cell_type": "code",
      "metadata": {
        "id": "RgZCF1JVmk-u"
      },
      "source": [
        "## Load files to the colab\n",
        "dataset=pd.read_csv(\"sertaozinho.csv\", delimiter=\";\")"
      ],
      "execution_count": null,
      "outputs": []
    },
    {
      "cell_type": "code",
      "metadata": {
        "id": "P1XXxPZ1nrjA",
        "colab": {
          "base_uri": "https://localhost:8080/"
        },
        "outputId": "55c61510-5563-4337-b35b-7ba457470d46"
      },
      "source": [
        "dataset.columns"
      ],
      "execution_count": null,
      "outputs": [
        {
          "output_type": "execute_result",
          "data": {
            "text/plain": [
              "Index(['id', 'grade_2012', 'grade_2017', 'follow_up', 'month', 'year',\n",
              "       'school_2012', 'ethinicity', 'gender', 'failed_before_2012',\n",
              "       'mother_educ', 'pre_k_pub', 'pre_k_priv', 'kinder_pub', 'kinder_priv',\n",
              "       'act_2012', 'aes_2012', 'alt_2012', 'anx_2012', 'ass_2012', 'cmp_2012',\n",
              "       'dep_2012', 'ids_2012', 'ord_2012', 'sfd_2012', 'lang_2012',\n",
              "       'math_2012'],\n",
              "      dtype='object')"
            ]
          },
          "metadata": {
            "tags": []
          },
          "execution_count": 29
        }
      ]
    },
    {
      "cell_type": "code",
      "metadata": {
        "id": "M_nRluU977V3",
        "colab": {
          "base_uri": "https://localhost:8080/",
          "height": 215
        },
        "outputId": "3020a7c2-c6ab-41de-934c-c7a2fe3dd75e"
      },
      "source": [
        "dataset.head()"
      ],
      "execution_count": null,
      "outputs": [
        {
          "output_type": "execute_result",
          "data": {
            "text/html": [
              "<div>\n",
              "<style scoped>\n",
              "    .dataframe tbody tr th:only-of-type {\n",
              "        vertical-align: middle;\n",
              "    }\n",
              "\n",
              "    .dataframe tbody tr th {\n",
              "        vertical-align: top;\n",
              "    }\n",
              "\n",
              "    .dataframe thead th {\n",
              "        text-align: right;\n",
              "    }\n",
              "</style>\n",
              "<table border=\"1\" class=\"dataframe\">\n",
              "  <thead>\n",
              "    <tr style=\"text-align: right;\">\n",
              "      <th></th>\n",
              "      <th>id</th>\n",
              "      <th>grade_2012</th>\n",
              "      <th>grade_2017</th>\n",
              "      <th>follow_up</th>\n",
              "      <th>month</th>\n",
              "      <th>year</th>\n",
              "      <th>school_2012</th>\n",
              "      <th>ethinicity</th>\n",
              "      <th>gender</th>\n",
              "      <th>failed_before_2012</th>\n",
              "      <th>mother_educ</th>\n",
              "      <th>pre_k_pub</th>\n",
              "      <th>pre_k_priv</th>\n",
              "      <th>kinder_pub</th>\n",
              "      <th>kinder_priv</th>\n",
              "      <th>act_2012</th>\n",
              "      <th>aes_2012</th>\n",
              "      <th>alt_2012</th>\n",
              "      <th>anx_2012</th>\n",
              "      <th>ass_2012</th>\n",
              "      <th>cmp_2012</th>\n",
              "      <th>dep_2012</th>\n",
              "      <th>ids_2012</th>\n",
              "      <th>ord_2012</th>\n",
              "      <th>sfd_2012</th>\n",
              "      <th>lang_2012</th>\n",
              "      <th>math_2012</th>\n",
              "    </tr>\n",
              "  </thead>\n",
              "  <tbody>\n",
              "    <tr>\n",
              "      <th>1</th>\n",
              "      <td>4769</td>\n",
              "      <td>4.0</td>\n",
              "      <td>NaN</td>\n",
              "      <td>0</td>\n",
              "      <td>NaN</td>\n",
              "      <td>NaN</td>\n",
              "      <td>municipal</td>\n",
              "      <td>NaN</td>\n",
              "      <td>mulher</td>\n",
              "      <td>NaN</td>\n",
              "      <td>NaN</td>\n",
              "      <td>NaN</td>\n",
              "      <td>NaN</td>\n",
              "      <td>NaN</td>\n",
              "      <td>NaN</td>\n",
              "      <td>-0.208333</td>\n",
              "      <td>-0.069444</td>\n",
              "      <td>0.395833</td>\n",
              "      <td>0.00</td>\n",
              "      <td>-1.000000</td>\n",
              "      <td>-1.263889</td>\n",
              "      <td>-0.791667</td>\n",
              "      <td>-0.525000</td>\n",
              "      <td>0.208333</td>\n",
              "      <td>-0.441667</td>\n",
              "      <td>NaN</td>\n",
              "      <td>NaN</td>\n",
              "    </tr>\n",
              "    <tr>\n",
              "      <th>2</th>\n",
              "      <td>5121</td>\n",
              "      <td>5.0</td>\n",
              "      <td>NaN</td>\n",
              "      <td>0</td>\n",
              "      <td>4.0</td>\n",
              "      <td>1999.0</td>\n",
              "      <td>municipal</td>\n",
              "      <td>preta</td>\n",
              "      <td>homem</td>\n",
              "      <td>sim</td>\n",
              "      <td>em</td>\n",
              "      <td>NaN</td>\n",
              "      <td>NaN</td>\n",
              "      <td>NaN</td>\n",
              "      <td>NaN</td>\n",
              "      <td>-0.420000</td>\n",
              "      <td>0.026667</td>\n",
              "      <td>-0.460000</td>\n",
              "      <td>-0.25</td>\n",
              "      <td>-0.216000</td>\n",
              "      <td>0.306667</td>\n",
              "      <td>-0.080000</td>\n",
              "      <td>0.048000</td>\n",
              "      <td>0.920000</td>\n",
              "      <td>1.216000</td>\n",
              "      <td>28.704331</td>\n",
              "      <td>0.873114</td>\n",
              "    </tr>\n",
              "    <tr>\n",
              "      <th>3</th>\n",
              "      <td>1586</td>\n",
              "      <td>5.0</td>\n",
              "      <td>10.0</td>\n",
              "      <td>1</td>\n",
              "      <td>2.0</td>\n",
              "      <td>2002.0</td>\n",
              "      <td>municipal</td>\n",
              "      <td>parda</td>\n",
              "      <td>homem</td>\n",
              "      <td>nao</td>\n",
              "      <td>ef2</td>\n",
              "      <td>nao</td>\n",
              "      <td>nao</td>\n",
              "      <td>sim</td>\n",
              "      <td>nao</td>\n",
              "      <td>-2.720000</td>\n",
              "      <td>0.426667</td>\n",
              "      <td>-1.360000</td>\n",
              "      <td>1.00</td>\n",
              "      <td>-0.256000</td>\n",
              "      <td>-0.426667</td>\n",
              "      <td>-1.280000</td>\n",
              "      <td>-0.032000</td>\n",
              "      <td>-1.280000</td>\n",
              "      <td>-1.344000</td>\n",
              "      <td>55.546427</td>\n",
              "      <td>52.508735</td>\n",
              "    </tr>\n",
              "    <tr>\n",
              "      <th>4</th>\n",
              "      <td>3230</td>\n",
              "      <td>5.0</td>\n",
              "      <td>9.0</td>\n",
              "      <td>1</td>\n",
              "      <td>5.0</td>\n",
              "      <td>2002.0</td>\n",
              "      <td>municipal</td>\n",
              "      <td>branca</td>\n",
              "      <td>homem</td>\n",
              "      <td>nao</td>\n",
              "      <td>ef2</td>\n",
              "      <td>nao</td>\n",
              "      <td>nao</td>\n",
              "      <td>nao</td>\n",
              "      <td>nao</td>\n",
              "      <td>0.200000</td>\n",
              "      <td>-1.266667</td>\n",
              "      <td>0.600000</td>\n",
              "      <td>-0.75</td>\n",
              "      <td>1.160000</td>\n",
              "      <td>0.933333</td>\n",
              "      <td>-0.200000</td>\n",
              "      <td>1.520000</td>\n",
              "      <td>-0.700000</td>\n",
              "      <td>1.240000</td>\n",
              "      <td>42.218278</td>\n",
              "      <td>42.168412</td>\n",
              "    </tr>\n",
              "    <tr>\n",
              "      <th>5</th>\n",
              "      <td>2410</td>\n",
              "      <td>5.0</td>\n",
              "      <td>10.0</td>\n",
              "      <td>1</td>\n",
              "      <td>7.0</td>\n",
              "      <td>2001.0</td>\n",
              "      <td>municipal</td>\n",
              "      <td>branca</td>\n",
              "      <td>homem</td>\n",
              "      <td>nao</td>\n",
              "      <td>nunca_estudou</td>\n",
              "      <td>nao</td>\n",
              "      <td>nao</td>\n",
              "      <td>sim</td>\n",
              "      <td>nao</td>\n",
              "      <td>0.152174</td>\n",
              "      <td>-2.347826</td>\n",
              "      <td>-1.423913</td>\n",
              "      <td>1.00</td>\n",
              "      <td>-1.130435</td>\n",
              "      <td>-0.217391</td>\n",
              "      <td>-0.152174</td>\n",
              "      <td>0.076087</td>\n",
              "      <td>-1.652174</td>\n",
              "      <td>-0.173913</td>\n",
              "      <td>63.801720</td>\n",
              "      <td>72.900984</td>\n",
              "    </tr>\n",
              "  </tbody>\n",
              "</table>\n",
              "</div>"
            ],
            "text/plain": [
              "     id  grade_2012  grade_2017  ...  sfd_2012  lang_2012  math_2012\n",
              "1  4769         4.0         NaN  ... -0.441667        NaN        NaN\n",
              "2  5121         5.0         NaN  ...  1.216000  28.704331   0.873114\n",
              "3  1586         5.0        10.0  ... -1.344000  55.546427  52.508735\n",
              "4  3230         5.0         9.0  ...  1.240000  42.218278  42.168412\n",
              "5  2410         5.0        10.0  ... -0.173913  63.801720  72.900984\n",
              "\n",
              "[5 rows x 27 columns]"
            ]
          },
          "metadata": {
            "tags": []
          },
          "execution_count": 30
        }
      ]
    },
    {
      "cell_type": "code",
      "metadata": {
        "id": "W7H9W1MfR7zL",
        "colab": {
          "base_uri": "https://localhost:8080/"
        },
        "outputId": "86361ead-0ffd-4dca-eb52-5275c4fd0fc3"
      },
      "source": [
        "dataset.shape"
      ],
      "execution_count": null,
      "outputs": [
        {
          "output_type": "execute_result",
          "data": {
            "text/plain": [
              "(4924, 27)"
            ]
          },
          "metadata": {
            "tags": []
          },
          "execution_count": 31
        }
      ]
    },
    {
      "cell_type": "markdown",
      "metadata": {
        "id": "3TAzPMA6rF1w"
      },
      "source": [
        "## id\n",
        "\n",
        "description: A unique number that characterize a single individual of the survey. Some ids are missing, probably people who were excluded from the survey by some criteria\n",
        "\n",
        "**discrete**\n",
        "\n",
        "its factors: numbers between 1 and 5311\n",
        "\n",
        "numbers of *NA*s: 0 (0%)\n",
        "\n",
        "suggested name: -"
      ]
    },
    {
      "cell_type": "code",
      "metadata": {
        "id": "VgT18Ft_rLtl",
        "colab": {
          "base_uri": "https://localhost:8080/"
        },
        "outputId": "597a4313-a881-40b1-da34-02f950e58829"
      },
      "source": [
        "print(sum(dataset.id.duplicated())) # Ids duplicated --> none\n",
        "print(sum(dataset.id.isna())) # Numbers of NA\n",
        "dataset.id.sort_values().head(10) # id == 6 is missing (probably others are either)"
      ],
      "execution_count": null,
      "outputs": [
        {
          "output_type": "stream",
          "text": [
            "0\n",
            "0\n"
          ],
          "name": "stdout"
        },
        {
          "output_type": "execute_result",
          "data": {
            "text/plain": [
              "1147     1\n",
              "4859     2\n",
              "1079     3\n",
              "1046     4\n",
              "4685     5\n",
              "668      7\n",
              "1876     8\n",
              "4526     9\n",
              "2921    10\n",
              "2126    11\n",
              "Name: id, dtype: int64"
            ]
          },
          "metadata": {
            "tags": []
          },
          "execution_count": 32
        }
      ]
    },
    {
      "cell_type": "markdown",
      "metadata": {
        "id": "yZxCn83CvGMe"
      },
      "source": [
        "## grade_2012\n",
        "\n",
        "description: which grade the student was in 2012\n",
        "\n",
        "**discrete**\n",
        "\n",
        "its factors: 4, 5 or 6\n",
        "\n"
      ]
    },
    {
      "cell_type": "code",
      "metadata": {
        "id": "He1ZpayhvE-X",
        "colab": {
          "base_uri": "https://localhost:8080/"
        },
        "outputId": "a667761f-3bd2-47dd-d6f4-00221a07d9f4"
      },
      "source": [
        "dataset.grade_2012.value_counts(dropna = False)"
      ],
      "execution_count": null,
      "outputs": [
        {
          "output_type": "execute_result",
          "data": {
            "text/plain": [
              "5.0    1781\n",
              "6.0    1705\n",
              "4.0    1421\n",
              "NaN      17\n",
              "Name: grade_2012, dtype: int64"
            ]
          },
          "metadata": {
            "tags": []
          },
          "execution_count": 33
        }
      ]
    },
    {
      "cell_type": "code",
      "metadata": {
        "id": "7WaSTraKzktk",
        "colab": {
          "base_uri": "https://localhost:8080/",
          "height": 288
        },
        "outputId": "77554dc4-a611-48c0-aec1-c3b922cd46c1"
      },
      "source": [
        "dataset.grade_2012.value_counts().plot.bar()"
      ],
      "execution_count": null,
      "outputs": [
        {
          "output_type": "execute_result",
          "data": {
            "text/plain": [
              "<matplotlib.axes._subplots.AxesSubplot at 0x7f915b9cd390>"
            ]
          },
          "metadata": {
            "tags": []
          },
          "execution_count": 34
        },
        {
          "output_type": "display_data",
          "data": {
            "image/png": "[encoded data removed]",
            "text/plain": [
              "<Figure size 432x288 with 1 Axes>"
            ]
          },
          "metadata": {
            "tags": [],
            "needs_background": "light"
          }
        }
      ]
    },
    {
      "cell_type": "markdown",
      "metadata": {
        "id": "1j2flhCbCxWo"
      },
      "source": [
        "## grade_2017\n",
        "\n",
        "description: which grade the student was in 2017\n",
        "\n",
        "**discrete**\n",
        "\n",
        "its factors: 7, 8, 9, 10, 11, 12\n",
        "\n"
      ]
    },
    {
      "cell_type": "code",
      "metadata": {
        "id": "z6vwiZEhCxW9",
        "colab": {
          "base_uri": "https://localhost:8080/"
        },
        "outputId": "5df7bfd4-f18f-4bc1-8051-d552fced16b9"
      },
      "source": [
        "print(\"percentage of NAs is: \",sum(dataset.grade_2017.isna())/len(dataset.grade_2017))\n",
        "dataset.grade_2017.value_counts(dropna = False)\n"
      ],
      "execution_count": null,
      "outputs": [
        {
          "output_type": "stream",
          "text": [
            "percentage of NAs is:  0.36149471974004876\n"
          ],
          "name": "stdout"
        },
        {
          "output_type": "execute_result",
          "data": {
            "text/plain": [
              "NaN     1780\n",
              "10.0    1096\n",
              "9.0      959\n",
              "11.0     873\n",
              "8.0      169\n",
              "7.0       29\n",
              "12.0      18\n",
              "Name: grade_2017, dtype: int64"
            ]
          },
          "metadata": {
            "tags": []
          },
          "execution_count": 35
        }
      ]
    },
    {
      "cell_type": "code",
      "metadata": {
        "id": "X4jYR1EICxW-",
        "colab": {
          "base_uri": "https://localhost:8080/",
          "height": 295
        },
        "outputId": "ff3e5c04-fec1-40f5-ef20-eeea8fbfceac"
      },
      "source": [
        "dataset.grade_2017.value_counts().plot.bar()"
      ],
      "execution_count": null,
      "outputs": [
        {
          "output_type": "execute_result",
          "data": {
            "text/plain": [
              "<matplotlib.axes._subplots.AxesSubplot at 0x7f915b932350>"
            ]
          },
          "metadata": {
            "tags": []
          },
          "execution_count": 36
        },
        {
          "output_type": "display_data",
          "data": {
            "image/png": "[encoded data removed]",
            "text/plain": [
              "<Figure size 432x288 with 1 Axes>"
            ]
          },
          "metadata": {
            "tags": [],
            "needs_background": "light"
          }
        }
      ]
    },
    {
      "cell_type": "markdown",
      "metadata": {
        "id": "ZZaY_dfvKFSo"
      },
      "source": [
        "## month, year, semester\n",
        "\n",
        "Description: year and month of student's birth\n",
        "\n",
        "**Discrete**\n"
      ]
    },
    {
      "cell_type": "code",
      "metadata": {
        "id": "CGyRrv78t2bY",
        "colab": {
          "base_uri": "https://localhost:8080/"
        },
        "outputId": "b7146d78-9e0b-46ec-bf7c-1c9e034c6509"
      },
      "source": [
        "print(dataset.month.isna().sum())\n",
        "print(dataset.year.isna().sum())\n",
        "\n",
        "print('Percentage of year and month missing values:\\nYEAR: {}\\nMONTH: {} '.format(dataset.month.isna().sum()/dataset.shape[0],\n",
        "                                                                                  dataset.year.isna().sum()/dataset.shape[0]))"
      ],
      "execution_count": null,
      "outputs": [
        {
          "output_type": "stream",
          "text": [
            "511\n",
            "523\n",
            "Percentage of year and month missing values:\n",
            "YEAR: 0.1037774167343623\n",
            "MONTH: 0.1062144597887896 \n"
          ],
          "name": "stdout"
        }
      ]
    },
    {
      "cell_type": "code",
      "metadata": {
        "id": "INv4J29cxCkN",
        "colab": {
          "base_uri": "https://localhost:8080/",
          "height": 592
        },
        "outputId": "366efad3-96d4-4db3-dc50-9d9ab20870c7"
      },
      "source": [
        "dataset.year.value_counts().plot.bar()\n",
        "dataset.year.value_counts() ## Some values in years are mispelled"
      ],
      "execution_count": null,
      "outputs": [
        {
          "output_type": "execute_result",
          "data": {
            "text/plain": [
              "2001.0     1391\n",
              "2002.0     1071\n",
              "2000.0     1019\n",
              "2003.0      381\n",
              "1999.0      310\n",
              "1998.0      137\n",
              "1997.0       38\n",
              "0.0          19\n",
              "2012.0       16\n",
              "1996.0       11\n",
              "1994.0        3\n",
              "2011.0        1\n",
              "2009.0        1\n",
              "200.0         1\n",
              "199.0         1\n",
              "20002.0       1\n",
              "Name: year, dtype: int64"
            ]
          },
          "metadata": {
            "tags": []
          },
          "execution_count": 38
        },
        {
          "output_type": "display_data",
          "data": {
            "image/png": "[encoded data removed]",
            "text/plain": [
              "<Figure size 432x288 with 1 Axes>"
            ]
          },
          "metadata": {
            "tags": [],
            "needs_background": "light"
          }
        }
      ]
    },
    {
      "cell_type": "markdown",
      "metadata": {
        "id": "rMXd9zCDKOUp"
      },
      "source": [
        "## school_2012\n",
        "\n",
        "Description: student's school categorie\n",
        "\n",
        "**Categoric**\n",
        "\n",
        "It's factors: municipal, estadual, privada\n",
        "\n"
      ]
    },
    {
      "cell_type": "code",
      "metadata": {
        "id": "g5LR2Jl8ipPm",
        "colab": {
          "base_uri": "https://localhost:8080/",
          "height": 446
        },
        "outputId": "afa33332-6469-4ba4-d1df-055707d74f79"
      },
      "source": [
        "print(dataset.school_2012.value_counts(),\"\\n\")\n",
        "print(\"# of NA:\", dataset.school_2012.isna().sum(),\"  Percentage: \", dataset.school_2012.isna().sum()/dataset.shape[0]*100,\"%\\n\" )\n",
        "\n",
        "dataset.school_2012.value_counts().plot.bar()"
      ],
      "execution_count": null,
      "outputs": [
        {
          "output_type": "stream",
          "text": [
            "municipal    3357\n",
            "estadual     1102\n",
            "privada       456\n",
            "Name: school_2012, dtype: int64 \n",
            "\n",
            "# of NA: 9   Percentage:  0.18277822908204713 %\n",
            "\n"
          ],
          "name": "stdout"
        },
        {
          "output_type": "execute_result",
          "data": {
            "text/plain": [
              "<matplotlib.axes._subplots.AxesSubplot at 0x7f915b90ab90>"
            ]
          },
          "metadata": {
            "tags": []
          },
          "execution_count": 40
        },
        {
          "output_type": "display_data",
          "data": {
            "image/png": "[encoded data removed]",
            "text/plain": [
              "<Figure size 432x288 with 1 Axes>"
            ]
          },
          "metadata": {
            "tags": [],
            "needs_background": "light"
          }
        }
      ]
    },
    {
      "cell_type": "markdown",
      "metadata": {
        "id": "RZplqNAAKrKQ"
      },
      "source": [
        "## ethinicity\n",
        "\n",
        "Description: the student's ethinicity\n",
        "\n",
        "**Categoric**\n",
        "\n",
        "It's factors: parda, branca, preta, indigena, amarela\n",
        "\n",
        "\n"
      ]
    },
    {
      "cell_type": "code",
      "metadata": {
        "id": "-H6_Bk6v3rAi",
        "colab": {
          "base_uri": "https://localhost:8080/"
        },
        "outputId": "a901f1b8-deab-4d11-bd8d-5154b4565b17"
      },
      "source": [
        "print(dataset.ethinicity.isna().sum())\n",
        "print(dataset.ethinicity.isna().sum()/dataset.shape[0]*100,\"%\\n\")\n",
        "print(dataset.ethinicity.describe(),\"\\n\\n\", dataset.ethinicity.value_counts())\n",
        "\n",
        "print(\"\\n\\'parda\\' percentage: \", dataset.ethinicity[dataset.ethinicity == \"parda\"].count()/dataset.shape[0]*100,\"%\" )\n",
        "print(\"\\'amarela\\' percentage: \", dataset.ethinicity[dataset.ethinicity == \"amarela\"].count()/dataset.shape[0]*100,\"%\" )\n"
      ],
      "execution_count": null,
      "outputs": [
        {
          "output_type": "stream",
          "text": [
            "529\n",
            "10.743298131600325 %\n",
            "\n",
            "count      4395\n",
            "unique        5\n",
            "top       parda\n",
            "freq       2033\n",
            "Name: ethinicity, dtype: object \n",
            "\n",
            " parda       2033\n",
            "branca      1747\n",
            "preta        474\n",
            "indigena      80\n",
            "amarela       61\n",
            "Name: ethinicity, dtype: int64\n",
            "\n",
            "'parda' percentage:  41.28757108042242 %\n",
            "'amarela' percentage:  1.2388302193338747 %\n"
          ],
          "name": "stdout"
        }
      ]
    },
    {
      "cell_type": "code",
      "metadata": {
        "id": "l9498K-l5LwW",
        "colab": {
          "base_uri": "https://localhost:8080/",
          "height": 316
        },
        "outputId": "2531a768-f549-40e2-c105-2823c1933a51"
      },
      "source": [
        "dataset.ethinicity.value_counts().plot.bar()"
      ],
      "execution_count": null,
      "outputs": [
        {
          "output_type": "execute_result",
          "data": {
            "text/plain": [
              "<matplotlib.axes._subplots.AxesSubplot at 0x7f915b803c10>"
            ]
          },
          "metadata": {
            "tags": []
          },
          "execution_count": 42
        },
        {
          "output_type": "display_data",
          "data": {
            "image/png": "[encoded data removed]",
            "text/plain": [
              "<Figure size 432x288 with 1 Axes>"
            ]
          },
          "metadata": {
            "tags": [],
            "needs_background": "light"
          }
        }
      ]
    },
    {
      "cell_type": "markdown",
      "metadata": {
        "id": "IsEzeok2KrGP"
      },
      "source": [
        "## gender\n",
        "\n",
        "Description: student's gender\n",
        "\n",
        "**Categoric**\n",
        "\n",
        "It's factors: homem, mulher\n"
      ]
    },
    {
      "cell_type": "code",
      "metadata": {
        "id": "4bbzBR8zjc0c",
        "colab": {
          "base_uri": "https://localhost:8080/",
          "height": 485
        },
        "outputId": "84b93078-27cf-473a-9c7c-1959ebe1c1c1"
      },
      "source": [
        "print(dataset.gender.value_counts(),\"\\n\")\n",
        "print(\"# of NA:\", dataset.gender.isna().sum(),\"  Percentage: \", dataset.gender.isna().sum()/dataset.shape[0]*100,\"%\\n\" )\n",
        "print(\"# of 'mulher':\", dataset.gender.value_counts()[0],\"  Percentage: \", dataset.gender.value_counts()[0]/dataset.shape[0]*100,\"%\\n\" )\n",
        "print(\"# of 'homem':\", dataset.gender.value_counts()[1],\"  Percentage: \", dataset.gender.value_counts()[1]/dataset.shape[0]*100,\"%\\n\" )\n",
        "\n",
        "\n",
        "dataset.gender.value_counts().plot.bar()"
      ],
      "execution_count": null,
      "outputs": [
        {
          "output_type": "stream",
          "text": [
            "homem     2547\n",
            "mulher    2365\n",
            "Name: gender, dtype: int64 \n",
            "\n",
            "# of NA: 12   Percentage:  0.2437043054427295 %\n",
            "\n",
            "# of 'mulher': 2547   Percentage:  51.72623883021933 %\n",
            "\n",
            "# of 'homem': 2365   Percentage:  48.030056864337936 %\n",
            "\n"
          ],
          "name": "stdout"
        },
        {
          "output_type": "execute_result",
          "data": {
            "text/plain": [
              "<matplotlib.axes._subplots.AxesSubplot at 0x7f915aceb6d0>"
            ]
          },
          "metadata": {
            "tags": []
          },
          "execution_count": 43
        },
        {
          "output_type": "display_data",
          "data": {
            "image/png": "[encoded data removed]",
            "text/plain": [
              "<Figure size 432x288 with 1 Axes>"
            ]
          },
          "metadata": {
            "tags": [],
            "needs_background": "light"
          }
        }
      ]
    },
    {
      "cell_type": "markdown",
      "metadata": {
        "id": "18JdsJcQK95X"
      },
      "source": [
        "## failed_before_2012\n",
        "\n",
        "Description: if the student has already failed before the year of 2012\n",
        "\n",
        "**Categoric**\n",
        "\n",
        "It's factors: sim, nao\n",
        "\n"
      ]
    },
    {
      "cell_type": "code",
      "metadata": {
        "id": "kW6S3ynz9EGK",
        "colab": {
          "base_uri": "https://localhost:8080/",
          "height": 413
        },
        "outputId": "255bbd8c-aaea-436f-92f5-982172336b94"
      },
      "source": [
        "print(dataset.failed_before_2012.isna().sum())\n",
        "print(dataset.failed_before_2012.isna().sum()/dataset.shape[0]*100, \"%\\n\")\n",
        "\n",
        "print(dataset.failed_before_2012.value_counts(),\"\\n\")\n",
        "\n",
        "dataset.failed_before_2012.value_counts().plot.bar()"
      ],
      "execution_count": null,
      "outputs": [
        {
          "output_type": "stream",
          "text": [
            "513\n",
            "10.418359057676687 %\n",
            "\n",
            "nao    3087\n",
            "sim    1324\n",
            "Name: failed_before_2012, dtype: int64 \n",
            "\n"
          ],
          "name": "stdout"
        },
        {
          "output_type": "execute_result",
          "data": {
            "text/plain": [
              "<matplotlib.axes._subplots.AxesSubplot at 0x7f915ad36f90>"
            ]
          },
          "metadata": {
            "tags": []
          },
          "execution_count": 44
        },
        {
          "output_type": "display_data",
          "data": {
            "image/png": "[encoded data removed]",
            "text/plain": [
              "<Figure size 432x288 with 1 Axes>"
            ]
          },
          "metadata": {
            "tags": [],
            "needs_background": "light"
          }
        }
      ]
    },
    {
      "cell_type": "code",
      "metadata": {
        "id": "kOzlJeTe-L-p",
        "colab": {
          "base_uri": "https://localhost:8080/"
        },
        "outputId": "facb46af-b8ab-4d5e-d7e2-d1509768f0ec"
      },
      "source": [
        "print(\"Percentage of 'sim':  \", dataset.failed_before_2012[dataset.failed_before_2012 == \"sim\"].count()/dataset.shape[0]*100,\"%\" )\n",
        "print(\"Percentage of 'nao':  \", dataset.failed_before_2012[dataset.failed_before_2012 == \"nao\"].count()/dataset.shape[0]*100,\"%\" )"
      ],
      "execution_count": null,
      "outputs": [
        {
          "output_type": "stream",
          "text": [
            "Percentage of 'sim':   26.888708367181152 %\n",
            "Percentage of 'nao':   62.69293257514216 %\n"
          ],
          "name": "stdout"
        }
      ]
    },
    {
      "cell_type": "markdown",
      "metadata": {
        "id": "RgYtQJXJLC1l"
      },
      "source": [
        "## mother_educ\n",
        "\n",
        "Description: student mother's school degree\n",
        "\n",
        "**Categoric**\n",
        "\n",
        "It's factors: nunca_estudou, ef1, ef2, em, superior, nao_sabe\n"
      ]
    },
    {
      "cell_type": "code",
      "metadata": {
        "id": "OikwUL0AeYg8",
        "colab": {
          "base_uri": "https://localhost:8080/",
          "height": 522
        },
        "outputId": "520744e9-a5e0-4ebc-e955-73cc9aede2cc"
      },
      "source": [
        "print(dataset.mother_educ.value_counts(),\"\\n\")\n",
        "print(\"# of NA:\", dataset.mother_educ.isna().sum(),\"  Percentage: \", dataset.mother_educ.isna().sum()/dataset.shape[0]*100,\"%\\n\" )\n",
        "\n",
        "dataset.mother_educ.value_counts(sort = False)\n",
        "\n",
        "dataset.mother_educ.value_counts().plot.bar()"
      ],
      "execution_count": null,
      "outputs": [
        {
          "output_type": "stream",
          "text": [
            "ef1              1249\n",
            "em               1054\n",
            "ef2               959\n",
            "nunca_estudou     628\n",
            "superior          352\n",
            "nao_sabe          148\n",
            "Name: mother_educ, dtype: int64 \n",
            "\n",
            "# of NA: 534   Percentage:  10.844841592201462 %\n",
            "\n"
          ],
          "name": "stdout"
        },
        {
          "output_type": "execute_result",
          "data": {
            "text/plain": [
              "<matplotlib.axes._subplots.AxesSubplot at 0x7f915aa67a10>"
            ]
          },
          "metadata": {
            "tags": []
          },
          "execution_count": 48
        },
        {
          "output_type": "display_data",
          "data": {
            "image/png": "[encoded data removed]",
            "text/plain": [
              "<Figure size 432x288 with 1 Axes>"
            ]
          },
          "metadata": {
            "tags": [],
            "needs_background": "light"
          }
        }
      ]
    },
    {
      "cell_type": "markdown",
      "metadata": {
        "id": "TaHjKtjJLHNy"
      },
      "source": [
        "## pre_k_pub, pre_k_priv, kinder_pub, kinder_priv\n",
        "\n",
        "Description:\n",
        "* pre_k_pub: if the student used to frequent a public pre-kindergarden\n",
        "* pre_k_priv: if the student used to frequent a private pre-kindergarden\n",
        "* kinder_pub: if the student used to frequent a public kindergarden\n",
        "* kinder_priv: if the student used to frequent a private kindergarden\n",
        "\n",
        "**Categoric**\n",
        "\n",
        "It's factors: sim, nao\n",
        "\n"
      ]
    },
    {
      "cell_type": "code",
      "metadata": {
        "id": "KYDBrytnAfSy",
        "colab": {
          "base_uri": "https://localhost:8080/",
          "height": 675
        },
        "outputId": "f0b3e34f-7b9b-4ea9-e46e-08f25f059652"
      },
      "source": [
        "print(dataset.pre_k_pub.isna().sum(), dataset.pre_k_priv.isna().sum(), dataset.kinder_pub.isna().sum(), dataset.kinder_priv.isna().sum())\n",
        "\n",
        "print(dataset.pre_k_pub.isna().sum()/dataset.shape[0]*100,\"%\\n\")\n",
        "\n",
        "print(dataset.pre_k_pub.value_counts(), \"\\n\")\n",
        "print(dataset.pre_k_priv.value_counts(), \"\\n\")\n",
        "print(dataset.kinder_pub.value_counts(), \"\\n\")\n",
        "print(dataset.kinder_priv.value_counts(), \"\\n\")\n",
        "\n",
        "print(\"Percentage of 'sim':  \", dataset.pre_k_pub[dataset.pre_k_pub == \"sim\"].count()/dataset.shape[0]*100,\"%\" )\n",
        "print(\"Percentage of 'nao':  \", dataset.pre_k_pub[dataset.pre_k_pub == \"nao\"].count()/dataset.shape[0]*100,\"%\\n\" )\n",
        "\n",
        "dataset.pre_k_pub.value_counts().plot.bar()"
      ],
      "execution_count": null,
      "outputs": [
        {
          "output_type": "stream",
          "text": [
            "1773 1773 1773 1773\n",
            "36.007311129163284 %\n",
            "\n",
            "nao    1706\n",
            "sim    1445\n",
            "Name: pre_k_pub, dtype: int64 \n",
            "\n",
            "nao    3035\n",
            "sim     116\n",
            "Name: pre_k_priv, dtype: int64 \n",
            "\n",
            "sim    2389\n",
            "nao     762\n",
            "Name: kinder_pub, dtype: int64 \n",
            "\n",
            "nao    2884\n",
            "sim     267\n",
            "Name: kinder_priv, dtype: int64 \n",
            "\n",
            "Percentage of 'sim':   29.34606011372868 %\n",
            "Percentage of 'nao':   34.64662875710805 %\n",
            "\n"
          ],
          "name": "stdout"
        },
        {
          "output_type": "execute_result",
          "data": {
            "text/plain": [
              "<matplotlib.axes._subplots.AxesSubplot at 0x7f915aa571d0>"
            ]
          },
          "metadata": {
            "tags": []
          },
          "execution_count": 49
        },
        {
          "output_type": "display_data",
          "data": {
            "image/png": "[encoded data removed]",
            "text/plain": [
              "<Figure size 432x288 with 1 Axes>"
            ]
          },
          "metadata": {
            "tags": [],
            "needs_background": "light"
          }
        }
      ]
    },
    {
      "cell_type": "code",
      "metadata": {
        "id": "65Y-vvDgGWxG",
        "colab": {
          "base_uri": "https://localhost:8080/",
          "height": 326
        },
        "outputId": "997e3f0a-cf25-4b43-d5bc-31eb0a95a483"
      },
      "source": [
        "print(\"Percentage of 'sim':  \", dataset.pre_k_priv[dataset.pre_k_priv == \"sim\"].count()/dataset.shape[0]*100,\"%\" )\n",
        "print(\"Percentage of 'nao':  \", dataset.pre_k_priv[dataset.pre_k_priv == \"nao\"].count()/dataset.shape[0]*100,\"%\" )\n",
        "dataset.pre_k_priv.value_counts().plot.bar()"
      ],
      "execution_count": null,
      "outputs": [
        {
          "output_type": "stream",
          "text": [
            "Percentage of 'sim':   2.3558082859463854 %\n",
            "Percentage of 'nao':   61.63688058489033 %\n"
          ],
          "name": "stdout"
        },
        {
          "output_type": "execute_result",
          "data": {
            "text/plain": [
              "<matplotlib.axes._subplots.AxesSubplot at 0x7f915a9b2650>"
            ]
          },
          "metadata": {
            "tags": []
          },
          "execution_count": 50
        },
        {
          "output_type": "display_data",
          "data": {
            "image/png": "[encoded data removed]",
            "text/plain": [
              "<Figure size 432x288 with 1 Axes>"
            ]
          },
          "metadata": {
            "tags": [],
            "needs_background": "light"
          }
        }
      ]
    },
    {
      "cell_type": "code",
      "metadata": {
        "id": "ZNwUq9_9GYl5",
        "colab": {
          "base_uri": "https://localhost:8080/",
          "height": 329
        },
        "outputId": "25c33628-c6bc-40a9-e5c0-d24bc076d165"
      },
      "source": [
        "print(\"Percentage of 'sim':  \", dataset.kinder_pub[dataset.kinder_pub == \"sim\"].count()/dataset.shape[0]*100,\"%\" )\n",
        "print(\"Percentage of 'nao':  \", dataset.kinder_pub[dataset.kinder_pub == \"nao\"].count()/dataset.shape[0]*100,\"%\" )\n",
        "dataset.kinder_pub.value_counts().plot.bar()"
      ],
      "execution_count": null,
      "outputs": [
        {
          "output_type": "stream",
          "text": [
            "Percentage of 'sim':   48.517465475223396 %\n",
            "Percentage of 'nao':   15.475223395613321 %\n"
          ],
          "name": "stdout"
        },
        {
          "output_type": "execute_result",
          "data": {
            "text/plain": [
              "<matplotlib.axes._subplots.AxesSubplot at 0x7f915a97e350>"
            ]
          },
          "metadata": {
            "tags": []
          },
          "execution_count": 51
        },
        {
          "output_type": "display_data",
          "data": {
            "image/png": "[encoded data removed]",
            "text/plain": [
              "<Figure size 432x288 with 1 Axes>"
            ]
          },
          "metadata": {
            "tags": [],
            "needs_background": "light"
          }
        }
      ]
    },
    {
      "cell_type": "code",
      "metadata": {
        "id": "7O7fpJjgGaDo",
        "colab": {
          "base_uri": "https://localhost:8080/",
          "height": 328
        },
        "outputId": "3b928f3e-0b9b-4328-d08d-b849fd51ca31"
      },
      "source": [
        "print(\"Percentage of 'sim':  \", dataset.kinder_priv[dataset.kinder_priv == \"sim\"].count()/dataset.shape[0]*100,\"%\" )\n",
        "print(\"Percentage of 'nao':  \", dataset.kinder_priv[dataset.kinder_priv == \"nao\"].count()/dataset.shape[0]*100,\"%\" )\n",
        "dataset.kinder_priv.value_counts().plot.bar()"
      ],
      "execution_count": null,
      "outputs": [
        {
          "output_type": "stream",
          "text": [
            "Percentage of 'sim':   5.422420796100731 %\n",
            "Percentage of 'nao':   58.570268074735985 %\n"
          ],
          "name": "stdout"
        },
        {
          "output_type": "execute_result",
          "data": {
            "text/plain": [
              "<matplotlib.axes._subplots.AxesSubplot at 0x7f915a919b50>"
            ]
          },
          "metadata": {
            "tags": []
          },
          "execution_count": 52
        },
        {
          "output_type": "display_data",
          "data": {
            "image/png": "[encoded data removed]",
            "text/plain": [
              "<Figure size 432x288 with 1 Axes>"
            ]
          },
          "metadata": {
            "tags": [],
            "needs_background": "light"
          }
        }
      ]
    },
    {
      "cell_type": "markdown",
      "metadata": {
        "id": "6Milnp4x1Pz0"
      },
      "source": [
        "## lang_2012, math_2012\n",
        "\n",
        "description: : The tests scores were standardized to have null mean and unit standard\n",
        "deviation in 2012 among those students who form our actual sample; \n",
        "\n",
        "**continuos**"
      ]
    },
    {
      "cell_type": "code",
      "metadata": {
        "id": "-GXe4kzV18GS",
        "colab": {
          "base_uri": "https://localhost:8080/"
        },
        "outputId": "15b0d85e-d879-4c04-f0c8-c0c9424623a8"
      },
      "source": [
        "print(dataset.lang_2012.describe())\n",
        "print(sum(dataset.lang_2012.isna()), sum(dataset.lang_2012.isna())/len(dataset.lang_2012))\n",
        "print(dataset.math_2012.describe())\n",
        "print(sum(dataset.math_2012.isna()), sum(dataset.math_2012.isna())/len(dataset.math_2012))"
      ],
      "execution_count": null,
      "outputs": [
        {
          "output_type": "stream",
          "text": [
            "count    3349.000000\n",
            "mean       63.653910\n",
            "std        21.321509\n",
            "min         0.000000\n",
            "25%        53.895848\n",
            "50%        67.813950\n",
            "75%        79.001413\n",
            "max       100.000000\n",
            "Name: lang_2012, dtype: float64\n",
            "1575 0.31986190089358246\n",
            "count    3356.000000\n",
            "mean       56.666097\n",
            "std        21.043323\n",
            "min         0.000000\n",
            "25%        44.081113\n",
            "50%        59.030419\n",
            "75%        70.803448\n",
            "max       100.000000\n",
            "Name: math_2012, dtype: float64\n",
            "1568 0.31844029244516653\n"
          ],
          "name": "stdout"
        }
      ]
    },
    {
      "cell_type": "code",
      "metadata": {
        "id": "1ggiWTRl2BhO",
        "colab": {
          "base_uri": "https://localhost:8080/",
          "height": 282
        },
        "outputId": "c8aa29f2-41a2-4629-9683-a6644aa5e27b"
      },
      "source": [
        "mu = dataset.lang_2012.mean()\n",
        "sigma = dataset.lang_2012.std()\n",
        "plt.hist(dataset.lang_2012, density=True)\n",
        "x = np.linspace(mu - 3*sigma, mu + 3*sigma, 100)\n",
        "plt.plot(x, stats.norm.pdf(x, mu, sigma))"
      ],
      "execution_count": null,
      "outputs": [
        {
          "output_type": "execute_result",
          "data": {
            "text/plain": [
              "[<matplotlib.lines.Line2D at 0x7f915bb3d690>]"
            ]
          },
          "metadata": {
            "tags": []
          },
          "execution_count": 56
        },
        {
          "output_type": "display_data",
          "data": {
            "image/png": "[encoded data removed]",
            "text/plain": [
              "<Figure size 432x288 with 1 Axes>"
            ]
          },
          "metadata": {
            "tags": [],
            "needs_background": "light"
          }
        }
      ]
    },
    {
      "cell_type": "code",
      "metadata": {
        "id": "83UgKv_52VIk",
        "colab": {
          "base_uri": "https://localhost:8080/",
          "height": 282
        },
        "outputId": "909c809d-68ff-4c4b-db3a-d861103730c5"
      },
      "source": [
        "mu = dataset.math_2012.mean()\n",
        "sigma = dataset.math_2012.std()\n",
        "plt.hist(dataset.math_2012, density=True)\n",
        "x = np.linspace(mu - 3*sigma, mu + 3*sigma, 100)\n",
        "plt.plot(x, stats.norm.pdf(x, mu, sigma))"
      ],
      "execution_count": null,
      "outputs": [
        {
          "output_type": "execute_result",
          "data": {
            "text/plain": [
              "[<matplotlib.lines.Line2D at 0x7f915a773550>]"
            ]
          },
          "metadata": {
            "tags": []
          },
          "execution_count": 57
        },
        {
          "output_type": "display_data",
          "data": {
            "image/png": "[encoded data removed]",
            "text/plain": [
              "<Figure size 432x288 with 1 Axes>"
            ]
          },
          "metadata": {
            "tags": [],
            "needs_background": "light"
          }
        }
      ]
    },
    {
      "cell_type": "code",
      "metadata": {
        "id": "TQTF3B-M3Ba2",
        "colab": {
          "base_uri": "https://localhost:8080/",
          "height": 400
        },
        "outputId": "ec4f5029-84b0-4c96-f91e-7904bacf0f07"
      },
      "source": [
        "df = dataset[['lang_2012', 'math_2012']]\n",
        "df"
      ],
      "execution_count": null,
      "outputs": [
        {
          "output_type": "execute_result",
          "data": {
            "text/html": [
              "<div>\n",
              "<style scoped>\n",
              "    .dataframe tbody tr th:only-of-type {\n",
              "        vertical-align: middle;\n",
              "    }\n",
              "\n",
              "    .dataframe tbody tr th {\n",
              "        vertical-align: top;\n",
              "    }\n",
              "\n",
              "    .dataframe thead th {\n",
              "        text-align: right;\n",
              "    }\n",
              "</style>\n",
              "<table border=\"1\" class=\"dataframe\">\n",
              "  <thead>\n",
              "    <tr style=\"text-align: right;\">\n",
              "      <th></th>\n",
              "      <th>lang_2012</th>\n",
              "      <th>math_2012</th>\n",
              "    </tr>\n",
              "  </thead>\n",
              "  <tbody>\n",
              "    <tr>\n",
              "      <th>1</th>\n",
              "      <td>NaN</td>\n",
              "      <td>NaN</td>\n",
              "    </tr>\n",
              "    <tr>\n",
              "      <th>2</th>\n",
              "      <td>28.704331</td>\n",
              "      <td>0.873114</td>\n",
              "    </tr>\n",
              "    <tr>\n",
              "      <th>3</th>\n",
              "      <td>55.546427</td>\n",
              "      <td>52.508735</td>\n",
              "    </tr>\n",
              "    <tr>\n",
              "      <th>4</th>\n",
              "      <td>42.218278</td>\n",
              "      <td>42.168412</td>\n",
              "    </tr>\n",
              "    <tr>\n",
              "      <th>5</th>\n",
              "      <td>63.801720</td>\n",
              "      <td>72.900984</td>\n",
              "    </tr>\n",
              "    <tr>\n",
              "      <th>...</th>\n",
              "      <td>...</td>\n",
              "      <td>...</td>\n",
              "    </tr>\n",
              "    <tr>\n",
              "      <th>4920</th>\n",
              "      <td>NaN</td>\n",
              "      <td>NaN</td>\n",
              "    </tr>\n",
              "    <tr>\n",
              "      <th>4921</th>\n",
              "      <td>NaN</td>\n",
              "      <td>NaN</td>\n",
              "    </tr>\n",
              "    <tr>\n",
              "      <th>4922</th>\n",
              "      <td>NaN</td>\n",
              "      <td>NaN</td>\n",
              "    </tr>\n",
              "    <tr>\n",
              "      <th>4923</th>\n",
              "      <td>NaN</td>\n",
              "      <td>NaN</td>\n",
              "    </tr>\n",
              "    <tr>\n",
              "      <th>4924</th>\n",
              "      <td>NaN</td>\n",
              "      <td>NaN</td>\n",
              "    </tr>\n",
              "  </tbody>\n",
              "</table>\n",
              "<p>4924 rows × 2 columns</p>\n",
              "</div>"
            ],
            "text/plain": [
              "      lang_2012  math_2012\n",
              "1           NaN        NaN\n",
              "2     28.704331   0.873114\n",
              "3     55.546427  52.508735\n",
              "4     42.218278  42.168412\n",
              "5     63.801720  72.900984\n",
              "...         ...        ...\n",
              "4920        NaN        NaN\n",
              "4921        NaN        NaN\n",
              "4922        NaN        NaN\n",
              "4923        NaN        NaN\n",
              "4924        NaN        NaN\n",
              "\n",
              "[4924 rows x 2 columns]"
            ]
          },
          "metadata": {
            "tags": []
          },
          "execution_count": 58
        }
      ]
    },
    {
      "cell_type": "code",
      "metadata": {
        "id": "VQ_kpWQa2ajE",
        "colab": {
          "base_uri": "https://localhost:8080/",
          "height": 595
        },
        "outputId": "06ab219c-182d-4294-ae9b-1742b1f612a8"
      },
      "source": [
        "df = dataset[['lang_2012', 'math_2012']]\n",
        "\n",
        "# cria subplots de tamanho 10x10\n",
        "fig, ax = plt.subplots(figsize=(10, 10))  \n",
        "\n",
        "# gera o heatmap usando a correlação dos seus dados originais\n",
        "sns.heatmap(df.corr(), annot=True, fmt=\".2f\") \n",
        "\n",
        "# Coloca o nome das colunas no eixo X\n",
        "plt.xticks(range(len(df.corr().columns)), df.corr().columns)\n",
        "\n",
        "# Coloca o nome das colunas no eixo Y\n",
        "plt.yticks(range(len(df.corr().columns)), df.corr().columns)\n",
        "\n",
        "# Exibe o heatmap\n",
        "plt.show()"
      ],
      "execution_count": null,
      "outputs": [
        {
          "output_type": "display_data",
          "data": {
            "image/png": "[encoded data removed]",
            "text/plain": [
              "<Figure size 720x720 with 2 Axes>"
            ]
          },
          "metadata": {
            "tags": [],
            "needs_background": "light"
          }
        }
      ]
    },
    {
      "cell_type": "markdown",
      "metadata": {
        "id": "ye4Afx6fLoed"
      },
      "source": [
        "# Traits description"
      ]
    },
    {
      "cell_type": "code",
      "metadata": {
        "id": "Xa4dOCtVMfBc",
        "colab": {
          "base_uri": "https://localhost:8080/"
        },
        "outputId": "197c7a5e-6eec-46e6-a12e-e2951ae44034"
      },
      "source": [
        "dataset.columns"
      ],
      "execution_count": null,
      "outputs": [
        {
          "output_type": "execute_result",
          "data": {
            "text/plain": [
              "Index(['id', 'grade_2012', 'grade_2017', 'follow_up', 'month', 'year',\n",
              "       'school_2012', 'ethinicity', 'gender', 'failed_before_2012',\n",
              "       'mother_educ', 'pre_k_pub', 'pre_k_priv', 'kinder_pub', 'kinder_priv',\n",
              "       'act_2012', 'aes_2012', 'alt_2012', 'anx_2012', 'ass_2012', 'cmp_2012',\n",
              "       'dep_2012', 'ids_2012', 'ord_2012', 'sfd_2012', 'lang_2012',\n",
              "       'math_2012'],\n",
              "      dtype='object')"
            ]
          },
          "metadata": {
            "tags": []
          },
          "execution_count": 60
        }
      ]
    },
    {
      "cell_type": "markdown",
      "metadata": {
        "id": "fxHUjmIOMLVm"
      },
      "source": [
        "## act_2012\n",
        "\n",
        "description: describes the propension to engage in energetic behaviour\n",
        "\n",
        "**continuos**\n"
      ]
    },
    {
      "cell_type": "code",
      "metadata": {
        "id": "m7gU8ME0Ngwf",
        "colab": {
          "base_uri": "https://localhost:8080/"
        },
        "outputId": "8add2f0c-384b-47da-ade3-844f5ae6720c"
      },
      "source": [
        "print(dataset.act_2012.describe())\n",
        "print(sum(dataset.act_2012.isna()), sum(dataset.act_2012.isna())/len(dataset.act_2012))"
      ],
      "execution_count": null,
      "outputs": [
        {
          "output_type": "stream",
          "text": [
            "count    4475.000000\n",
            "mean        0.023420\n",
            "std         0.938668\n",
            "min        -3.200000\n",
            "25%        -0.583333\n",
            "50%         0.080000\n",
            "75%         0.720000\n",
            "max         2.600000\n",
            "Name: act_2012, dtype: float64\n",
            "449 0.09118602761982128\n"
          ],
          "name": "stdout"
        }
      ]
    },
    {
      "cell_type": "code",
      "metadata": {
        "id": "xbSx4_9HO9aP",
        "colab": {
          "base_uri": "https://localhost:8080/",
          "height": 282
        },
        "outputId": "995ec8b3-7361-4a8c-fa7e-69cd15adaba5"
      },
      "source": [
        "mu = 0\n",
        "sigma = 1\n",
        "plt.hist(dataset.act_2012, density=True)\n",
        "x = np.linspace(mu - 3*sigma, mu + 3*sigma, 100)\n",
        "plt.plot(x, stats.norm.pdf(x, mu, sigma))"
      ],
      "execution_count": null,
      "outputs": [
        {
          "output_type": "execute_result",
          "data": {
            "text/plain": [
              "[<matplotlib.lines.Line2D at 0x7f9151e162d0>]"
            ]
          },
          "metadata": {
            "tags": []
          },
          "execution_count": 62
        },
        {
          "output_type": "display_data",
          "data": {
            "image/png": "[encoded data removed]",
            "text/plain": [
              "<Figure size 432x288 with 1 Axes>"
            ]
          },
          "metadata": {
            "tags": [],
            "needs_background": "light"
          }
        }
      ]
    },
    {
      "cell_type": "markdown",
      "metadata": {
        "id": "bHdYiP9bTzN0"
      },
      "source": [
        "## aes_2012\n",
        "\n",
        "description: describes the propension to have sensibility to art\n",
        "\n",
        "**continuos**\n",
        "\n",
        "numbers of *NA*s: 459 (9.32%)\n",
        "\n",
        "suggested name: Aesthetics"
      ]
    },
    {
      "cell_type": "code",
      "metadata": {
        "id": "fyBsbJ2aTzN2",
        "colab": {
          "base_uri": "https://localhost:8080/"
        },
        "outputId": "76ab5a1a-b148-4623-8999-d938dbd49834"
      },
      "source": [
        "print(dataset.aes_2012.describe())\n",
        "print(sum(dataset.aes_2012.isna()), sum(dataset.aes_2012.isna())/len(dataset.aes_2012))"
      ],
      "execution_count": null,
      "outputs": [
        {
          "output_type": "stream",
          "text": [
            "count    4465.000000\n",
            "mean       -0.316796\n",
            "std         0.829204\n",
            "min        -3.304348\n",
            "25%        -0.880000\n",
            "50%        -0.333333\n",
            "75%         0.254902\n",
            "max         2.400000\n",
            "Name: aes_2012, dtype: float64\n",
            "459 0.09321689683184403\n"
          ],
          "name": "stdout"
        }
      ]
    },
    {
      "cell_type": "code",
      "metadata": {
        "id": "DYXWUuGuTzN5",
        "colab": {
          "base_uri": "https://localhost:8080/",
          "height": 282
        },
        "outputId": "930c14a3-acec-4baf-a3ef-bf364cc034c3"
      },
      "source": [
        "mu = 0\n",
        "sigma = 1\n",
        "plt.hist(dataset.aes_2012, density=True)\n",
        "x = np.linspace(mu - 3*sigma, mu + 3*sigma, 100)\n",
        "plt.plot(x, stats.norm.pdf(x, mu, sigma))"
      ],
      "execution_count": null,
      "outputs": [
        {
          "output_type": "execute_result",
          "data": {
            "text/plain": [
              "[<matplotlib.lines.Line2D at 0x7f9151d2b210>]"
            ]
          },
          "metadata": {
            "tags": []
          },
          "execution_count": 64
        },
        {
          "output_type": "display_data",
          "data": {
            "image/png": "[encoded data removed]",
            "text/plain": [
              "<Figure size 432x288 with 1 Axes>"
            ]
          },
          "metadata": {
            "tags": [],
            "needs_background": "light"
          }
        }
      ]
    },
    {
      "cell_type": "markdown",
      "metadata": {
        "id": "95L1r4N4Uwfn"
      },
      "source": [
        "## alt_2012\n",
        "\n",
        "description: High scorers can be described as warm, softhearted, gentle, generous, and kind. On the other hand,\n",
        "low scorers can be described as selfish, cynical, cold, and snobbish; **(copied from the paper)**\n",
        "\n",
        "**continuos**\n",
        "\n",
        "numbers of *NA*s: 437 (8.87%)\n",
        "\n",
        "suggested name: Altruism"
      ]
    },
    {
      "cell_type": "code",
      "metadata": {
        "id": "O9bgOxr1Uwf2",
        "colab": {
          "base_uri": "https://localhost:8080/"
        },
        "outputId": "00b94703-c3ff-4101-c9ae-8d4833034446"
      },
      "source": [
        "print(dataset.alt_2012.describe())\n",
        "print(sum(dataset.alt_2012.isna()), sum(dataset.alt_2012.isna())/len(dataset.alt_2012))"
      ],
      "execution_count": null,
      "outputs": [
        {
          "output_type": "stream",
          "text": [
            "count    4487.000000\n",
            "mean       -0.528403\n",
            "std         0.664771\n",
            "min        -2.833333\n",
            "25%        -1.010000\n",
            "50%        -0.560000\n",
            "75%        -0.100000\n",
            "max         2.120000\n",
            "Name: alt_2012, dtype: float64\n",
            "437 0.08874898456539398\n"
          ],
          "name": "stdout"
        }
      ]
    },
    {
      "cell_type": "code",
      "metadata": {
        "id": "ClVcy2q9Uwf3",
        "colab": {
          "base_uri": "https://localhost:8080/",
          "height": 282
        },
        "outputId": "e6d4e078-7fbd-4a7e-cc20-5e3838e1137a"
      },
      "source": [
        "mu = 0\n",
        "sigma = 1\n",
        "plt.hist(dataset.alt_2012, density=True)\n",
        "x = np.linspace(mu - 3*sigma, mu + 3*sigma, 100)\n",
        "plt.plot(x, stats.norm.pdf(x, mu, sigma))"
      ],
      "execution_count": null,
      "outputs": [
        {
          "output_type": "execute_result",
          "data": {
            "text/plain": [
              "[<matplotlib.lines.Line2D at 0x7f9151cabb10>]"
            ]
          },
          "metadata": {
            "tags": []
          },
          "execution_count": 66
        },
        {
          "output_type": "display_data",
          "data": {
            "image/png": "[encoded data removed]",
            "text/plain": [
              "<Figure size 432x288 with 1 Axes>"
            ]
          },
          "metadata": {
            "tags": [],
            "needs_background": "light"
          }
        }
      ]
    },
    {
      "cell_type": "markdown",
      "metadata": {
        "id": "TZ3LLQz1Vw60"
      },
      "source": [
        "## anx_2012\n",
        "\n",
        "description: High scorers can be described as apprehensive, fearful, prone to worry, nervous and tense. On the\n",
        "other hand, low scorers can be described as calm, relaxed, stable, fearless; **(copied from the paper)**\n",
        "\n",
        "**continuos**\n",
        "\n",
        "numbers of *NA*s: 438 (8.89%)\n",
        "\n",
        "suggested name: Anxiety"
      ]
    },
    {
      "cell_type": "code",
      "metadata": {
        "id": "pY5F6DW6Vw63",
        "colab": {
          "base_uri": "https://localhost:8080/"
        },
        "outputId": "ddc3417f-a60a-4df7-c6f2-392dec73d95c"
      },
      "source": [
        "print(dataset.anx_2012.describe())\n",
        "print(sum(dataset.anx_2012.isna()), sum(dataset.anx_2012.isna())/len(dataset.anx_2012))"
      ],
      "execution_count": null,
      "outputs": [
        {
          "output_type": "stream",
          "text": [
            "count    4486.000000\n",
            "mean        0.224340\n",
            "std         0.598464\n",
            "min        -2.015152\n",
            "25%         0.000000\n",
            "50%         0.250000\n",
            "75%         0.595833\n",
            "max         2.400000\n",
            "Name: anx_2012, dtype: float64\n",
            "438 0.08895207148659626\n"
          ],
          "name": "stdout"
        }
      ]
    },
    {
      "cell_type": "code",
      "metadata": {
        "id": "m8ek8I62Vw66",
        "colab": {
          "base_uri": "https://localhost:8080/",
          "height": 282
        },
        "outputId": "5179c205-c9e8-4f94-9f83-b5202d468e39"
      },
      "source": [
        "mu = 0\n",
        "sigma = 1\n",
        "plt.hist(dataset.anx_2012, density=True)\n",
        "x = np.linspace(mu - 3*sigma, mu + 3*sigma, 100)\n",
        "plt.plot(x, stats.norm.pdf(x, mu, sigma))"
      ],
      "execution_count": null,
      "outputs": [
        {
          "output_type": "execute_result",
          "data": {
            "text/plain": [
              "[<matplotlib.lines.Line2D at 0x7f9151c38a50>]"
            ]
          },
          "metadata": {
            "tags": []
          },
          "execution_count": 68
        },
        {
          "output_type": "display_data",
          "data": {
            "image/png": "[encoded data removed]",
            "text/plain": [
              "<Figure size 432x288 with 1 Axes>"
            ]
          },
          "metadata": {
            "tags": [],
            "needs_background": "light"
          }
        }
      ]
    },
    {
      "cell_type": "markdown",
      "metadata": {
        "id": "qMS-S6OfWoN4"
      },
      "source": [
        "## ass_2012\n",
        "\n",
        "description: High scorers can be described as dominant, forceful, confident, and decisive. On the other hand,\n",
        "low scorers can be described as unassuming, retiring, and reticent; **(copied from the paper)**\n",
        "\n",
        "**continuos**\n",
        "\n",
        "suggested name: Assertiveness"
      ]
    },
    {
      "cell_type": "code",
      "metadata": {
        "id": "f0hYS5KwWoOJ",
        "colab": {
          "base_uri": "https://localhost:8080/"
        },
        "outputId": "eea0cc0a-da59-4061-d7bc-ff6b968ee76b"
      },
      "source": [
        "print(dataset.ass_2012.describe())\n",
        "print(sum(dataset.ass_2012.isna()), sum(dataset.ass_2012.isna())/len(dataset.ass_2012))"
      ],
      "execution_count": null,
      "outputs": [
        {
          "output_type": "stream",
          "text": [
            "count    4501.000000\n",
            "mean       -0.056756\n",
            "std         0.635765\n",
            "min        -2.400000\n",
            "25%        -0.448000\n",
            "50%        -0.072000\n",
            "75%         0.368000\n",
            "max         2.400000\n",
            "Name: ass_2012, dtype: float64\n",
            "423 0.08590576766856214\n"
          ],
          "name": "stdout"
        }
      ]
    },
    {
      "cell_type": "code",
      "metadata": {
        "id": "kFPKhIIyWoOK",
        "colab": {
          "base_uri": "https://localhost:8080/",
          "height": 282
        },
        "outputId": "82a82803-81a5-4698-cd7f-5f916ebcfa1a"
      },
      "source": [
        "mu = 0\n",
        "sigma = 1\n",
        "plt.hist(dataset.ass_2012, density=True)\n",
        "x = np.linspace(mu - 3*sigma, mu + 3*sigma, 100)\n",
        "plt.plot(x, stats.norm.pdf(x, mu, sigma))"
      ],
      "execution_count": null,
      "outputs": [
        {
          "output_type": "execute_result",
          "data": {
            "text/plain": [
              "[<matplotlib.lines.Line2D at 0x7f9151bc4c10>]"
            ]
          },
          "metadata": {
            "tags": []
          },
          "execution_count": 70
        },
        {
          "output_type": "display_data",
          "data": {
            "image/png": "[encoded data removed]",
            "text/plain": [
              "<Figure size 432x288 with 1 Axes>"
            ]
          },
          "metadata": {
            "tags": [],
            "needs_background": "light"
          }
        }
      ]
    },
    {
      "cell_type": "markdown",
      "metadata": {
        "id": "b-bqhB6GXJDw"
      },
      "source": [
        "## cmp_2012\n",
        "\n",
        "description: High scorers can be described as deferential, obliging, and kind. On the other hand, low scorers\n",
        "can be described as stubborn, demanding, headstrong, and hardhearted; **(copied from the paper)**\n",
        "\n",
        "**continuos**\n",
        "\n",
        "suggested name: Compliance"
      ]
    },
    {
      "cell_type": "code",
      "metadata": {
        "id": "cNWjJVI5XJEV",
        "colab": {
          "base_uri": "https://localhost:8080/"
        },
        "outputId": "9f99a9c4-ed0a-4dac-b030-91116da6575d"
      },
      "source": [
        "print(dataset.cmp_2012.describe())\n",
        "print(sum(dataset.cmp_2012.isna()), sum(dataset.cmp_2012.isna())/len(dataset.cmp_2012))"
      ],
      "execution_count": null,
      "outputs": [
        {
          "output_type": "stream",
          "text": [
            "count    4495.000000\n",
            "mean        0.180542\n",
            "std         0.837422\n",
            "min        -2.117647\n",
            "25%        -0.386667\n",
            "50%         0.160000\n",
            "75%         0.760000\n",
            "max         2.565217\n",
            "Name: cmp_2012, dtype: float64\n",
            "429 0.08712428919577579\n"
          ],
          "name": "stdout"
        }
      ]
    },
    {
      "cell_type": "code",
      "metadata": {
        "id": "7XzS5yTiXJEW",
        "colab": {
          "base_uri": "https://localhost:8080/",
          "height": 282
        },
        "outputId": "06df5b09-3f72-4aaa-8f27-e5ead452d37c"
      },
      "source": [
        "mu = 0\n",
        "sigma = 1\n",
        "plt.hist(dataset.cmp_2012, density=True)\n",
        "x = np.linspace(mu - 3*sigma, mu + 3*sigma, 100)\n",
        "plt.plot(x, stats.norm.pdf(x, mu, sigma))"
      ],
      "execution_count": null,
      "outputs": [
        {
          "output_type": "execute_result",
          "data": {
            "text/plain": [
              "[<matplotlib.lines.Line2D at 0x7f9151b53310>]"
            ]
          },
          "metadata": {
            "tags": []
          },
          "execution_count": 72
        },
        {
          "output_type": "display_data",
          "data": {
            "image/png": "[encoded data removed]",
            "text/plain": [
              "<Figure size 432x288 with 1 Axes>"
            ]
          },
          "metadata": {
            "tags": [],
            "needs_background": "light"
          }
        }
      ]
    },
    {
      "cell_type": "markdown",
      "metadata": {
        "id": "FmIoMEXRXeI-"
      },
      "source": [
        "## dep_2012\n",
        "\n",
        "description: High scorers can be described as prone to feelings of guilt, sadness, hopelessness, and loneliness.\n",
        "On the other hand, low scorers can be described as being seldom sad, hopeful, confident, and as feeling\n",
        "worthwhile; **(copied from the paper)**\n",
        "\n",
        "**continuos**\n",
        "\n",
        "suggested name: Depression"
      ]
    },
    {
      "cell_type": "code",
      "metadata": {
        "id": "9J0szDcdXeJA",
        "colab": {
          "base_uri": "https://localhost:8080/"
        },
        "outputId": "7e9b96b1-ac1e-4e78-a137-2870aece1412"
      },
      "source": [
        "print(dataset.dep_2012.describe())\n",
        "print(sum(dataset.dep_2012.isna()), sum(dataset.dep_2012.isna())/len(dataset.dep_2012))"
      ],
      "execution_count": null,
      "outputs": [
        {
          "output_type": "stream",
          "text": [
            "count    4486.000000\n",
            "mean       -0.673208\n",
            "std         0.846411\n",
            "min        -3.260870\n",
            "25%        -1.280000\n",
            "50%        -0.820000\n",
            "75%        -0.200000\n",
            "max         3.680000\n",
            "Name: dep_2012, dtype: float64\n",
            "438 0.08895207148659626\n"
          ],
          "name": "stdout"
        }
      ]
    },
    {
      "cell_type": "code",
      "metadata": {
        "id": "g--ArcLwXeJB",
        "colab": {
          "base_uri": "https://localhost:8080/",
          "height": 282
        },
        "outputId": "49fb3590-e303-4339-fac8-a188600882e7"
      },
      "source": [
        "mu = 0\n",
        "sigma = 1\n",
        "plt.hist(dataset.dep_2012, density=True)\n",
        "x = np.linspace(mu - 3*sigma, mu + 3*sigma, 100)\n",
        "plt.plot(x, stats.norm.pdf(x, mu, sigma))"
      ],
      "execution_count": null,
      "outputs": [
        {
          "output_type": "execute_result",
          "data": {
            "text/plain": [
              "[<matplotlib.lines.Line2D at 0x7f9151acbd50>]"
            ]
          },
          "metadata": {
            "tags": []
          },
          "execution_count": 74
        },
        {
          "output_type": "display_data",
          "data": {
            "image/png": "[encoded data removed]",
            "text/plain": [
              "<Figure size 432x288 with 1 Axes>"
            ]
          },
          "metadata": {
            "tags": [],
            "needs_background": "light"
          }
        }
      ]
    },
    {
      "cell_type": "markdown",
      "metadata": {
        "id": "RGyM9YBjX6fs"
      },
      "source": [
        "## ids_2012\n",
        "\n",
        "description: High scorers can be described as intellectually curious, analytical, and theoretically oriented. On the\n",
        "other hand, low scorers can be described as pragmatic, factually oriented, and unappreciative of intellectual\n",
        "challenges; **(copied from the paper)**\n",
        "\n",
        "**continuos**\n",
        "\n",
        "suggested name: Ideas"
      ]
    },
    {
      "cell_type": "code",
      "metadata": {
        "id": "14F3L4_RX6f0",
        "colab": {
          "base_uri": "https://localhost:8080/"
        },
        "outputId": "45dfaf09-a4c2-4cd1-ed86-1c1c71c81411"
      },
      "source": [
        "print(dataset.ids_2012.describe())\n",
        "print(sum(dataset.ids_2012.isna()), sum(dataset.ids_2012.isna())/len(dataset.ids_2012))"
      ],
      "execution_count": null,
      "outputs": [
        {
          "output_type": "stream",
          "text": [
            "count    4487.000000\n",
            "mean        0.229372\n",
            "std         0.588171\n",
            "min        -2.750000\n",
            "25%        -0.128000\n",
            "50%         0.232000\n",
            "75%         0.616000\n",
            "max         2.666667\n",
            "Name: ids_2012, dtype: float64\n",
            "437 0.08874898456539398\n"
          ],
          "name": "stdout"
        }
      ]
    },
    {
      "cell_type": "code",
      "metadata": {
        "id": "LDI1MUQxX6f3",
        "colab": {
          "base_uri": "https://localhost:8080/",
          "height": 282
        },
        "outputId": "124da328-84a8-4cc8-f51f-991598b47506"
      },
      "source": [
        "mu = 0\n",
        "sigma = 1\n",
        "plt.hist(dataset.ids_2012, density=True)\n",
        "x = np.linspace(mu - 3*sigma, mu + 3*sigma, 100)\n",
        "plt.plot(x, stats.norm.pdf(x, mu, sigma))"
      ],
      "execution_count": null,
      "outputs": [
        {
          "output_type": "execute_result",
          "data": {
            "text/plain": [
              "[<matplotlib.lines.Line2D at 0x7f915aadce10>]"
            ]
          },
          "metadata": {
            "tags": []
          },
          "execution_count": 76
        },
        {
          "output_type": "display_data",
          "data": {
            "image/png": "[encoded data removed]",
            "text/plain": [
              "<Figure size 432x288 with 1 Axes>"
            ]
          },
          "metadata": {
            "tags": [],
            "needs_background": "light"
          }
        }
      ]
    },
    {
      "cell_type": "markdown",
      "metadata": {
        "id": "XeYBNc9_YSjq"
      },
      "source": [
        "## ord_2012\n",
        "\n",
        "description: High scorers can be described as precise, efficient, and methodical. On the other hand, low scorers can\n",
        "be described as disorderly, impulsive, and careless; **(copied from the paper)**\n",
        "\n",
        "**continuos**\n",
        "\n",
        "suggested name: Order"
      ]
    },
    {
      "cell_type": "code",
      "metadata": {
        "id": "sSGFyJtGYSkI",
        "colab": {
          "base_uri": "https://localhost:8080/"
        },
        "outputId": "fb5744c1-5bd6-477f-e47a-bff6751a26e0"
      },
      "source": [
        "print(dataset.ord_2012.describe())\n",
        "print(sum(dataset.ord_2012.isna()), sum(dataset.ord_2012.isna())/len(dataset.ord_2012))"
      ],
      "execution_count": null,
      "outputs": [
        {
          "output_type": "stream",
          "text": [
            "count    4477.000000\n",
            "mean       -0.479624\n",
            "std         0.862154\n",
            "min        -2.680000\n",
            "25%        -1.130435\n",
            "50%        -0.600000\n",
            "75%         0.080000\n",
            "max         3.040000\n",
            "Name: ord_2012, dtype: float64\n",
            "447 0.09077985377741674\n"
          ],
          "name": "stdout"
        }
      ]
    },
    {
      "cell_type": "code",
      "metadata": {
        "id": "eMcJBrkDYSkJ",
        "colab": {
          "base_uri": "https://localhost:8080/",
          "height": 282
        },
        "outputId": "df8d5b09-ea89-4f8f-a0ad-30e8af9e7047"
      },
      "source": [
        "mu = 0\n",
        "sigma = 1\n",
        "plt.hist(dataset.ord_2012, density=True)\n",
        "x = np.linspace(mu - 3*sigma, mu + 3*sigma, 100)\n",
        "plt.plot(x, stats.norm.pdf(x, mu, sigma))"
      ],
      "execution_count": null,
      "outputs": [
        {
          "output_type": "execute_result",
          "data": {
            "text/plain": [
              "[<matplotlib.lines.Line2D at 0x7f9151c232d0>]"
            ]
          },
          "metadata": {
            "tags": []
          },
          "execution_count": 78
        },
        {
          "output_type": "display_data",
          "data": {
            "image/png": "[encoded data removed]",
            "text/plain": [
              "<Figure size 432x288 with 1 Axes>"
            ]
          },
          "metadata": {
            "tags": [],
            "needs_background": "light"
          }
        }
      ]
    },
    {
      "cell_type": "markdown",
      "metadata": {
        "id": "K_cTiIT2YTQ8"
      },
      "source": [
        "## sfd_2012\n",
        "\n",
        "description: High scorers can be described as organized, thorough, energetic, capable, and efficient. On the\n",
        "other hand, low scorers can be described as unambitious, forgetful, and absent-minded; **(copied from the paper)**\n",
        "\n",
        "**continuos**\n",
        "\n",
        "suggested name: SelfDiscipline"
      ]
    },
    {
      "cell_type": "code",
      "metadata": {
        "id": "LJtCpEYiYTQ9",
        "colab": {
          "base_uri": "https://localhost:8080/"
        },
        "outputId": "3a530169-50e4-445a-bc75-d3524f6b83a4"
      },
      "source": [
        "print(dataset.sfd_2012.describe())\n",
        "print(sum(dataset.sfd_2012.isna()), sum(dataset.sfd_2012.isna())/len(dataset.sfd_2012))"
      ],
      "execution_count": null,
      "outputs": [
        {
          "output_type": "stream",
          "text": [
            "count    4486.000000\n",
            "mean       -0.129863\n",
            "std         0.688477\n",
            "min        -2.571429\n",
            "25%        -0.560000\n",
            "50%        -0.136000\n",
            "75%         0.304000\n",
            "max         2.400000\n",
            "Name: sfd_2012, dtype: float64\n",
            "438 0.08895207148659626\n"
          ],
          "name": "stdout"
        }
      ]
    },
    {
      "cell_type": "code",
      "metadata": {
        "id": "72vbxUdyYTQ9",
        "colab": {
          "base_uri": "https://localhost:8080/",
          "height": 282
        },
        "outputId": "f266e553-7a5c-417d-8eb4-7fce37a6e848"
      },
      "source": [
        "mu = 0\n",
        "sigma = 1\n",
        "plt.hist(dataset.sfd_2012, density=True)\n",
        "x = np.linspace(mu - 3*sigma, mu + 3*sigma, 100)\n",
        "plt.plot(x, stats.norm.pdf(x, mu, sigma))"
      ],
      "execution_count": null,
      "outputs": [
        {
          "output_type": "execute_result",
          "data": {
            "text/plain": [
              "[<matplotlib.lines.Line2D at 0x7f915190f710>]"
            ]
          },
          "metadata": {
            "tags": []
          },
          "execution_count": 82
        },
        {
          "output_type": "display_data",
          "data": {
            "image/png": "[encoded data removed]",
            "text/plain": [
              "<Figure size 432x288 with 1 Axes>"
            ]
          },
          "metadata": {
            "tags": [],
            "needs_background": "light"
          }
        }
      ]
    }
  ]
}